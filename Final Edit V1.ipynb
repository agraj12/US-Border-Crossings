{
 "cells": [
  {
   "cell_type": "code",
   "execution_count": 1,
   "metadata": {},
   "outputs": [],
   "source": [
    "import os\n",
    "import pandas as pd\n",
    "import numpy as np\n",
    "import matplotlib.pyplot as plt\n",
    "import time\n",
    "import seaborn as sns\n",
    "import sys\n",
    "import folium\n",
    "import statsmodels.formula.api as sm\n",
    "from folium import plugins\n",
    "from multiprocessing import Pool"
   ]
  },
  {
   "cell_type": "code",
   "execution_count": 2,
   "metadata": {},
   "outputs": [
    {
     "name": "stdout",
     "output_type": "stream",
     "text": [
      "Dimensions:  (346733, 8)\n"
     ]
    },
    {
     "data": {
      "text/html": [
       "<div>\n",
       "<style scoped>\n",
       "    .dataframe tbody tr th:only-of-type {\n",
       "        vertical-align: middle;\n",
       "    }\n",
       "\n",
       "    .dataframe tbody tr th {\n",
       "        vertical-align: top;\n",
       "    }\n",
       "\n",
       "    .dataframe thead th {\n",
       "        text-align: right;\n",
       "    }\n",
       "</style>\n",
       "<table border=\"1\" class=\"dataframe\">\n",
       "  <thead>\n",
       "    <tr style=\"text-align: right;\">\n",
       "      <th></th>\n",
       "      <th>Port Name</th>\n",
       "      <th>State</th>\n",
       "      <th>Port Code</th>\n",
       "      <th>Border</th>\n",
       "      <th>Date</th>\n",
       "      <th>Measure</th>\n",
       "      <th>Value</th>\n",
       "      <th>Location</th>\n",
       "    </tr>\n",
       "  </thead>\n",
       "  <tbody>\n",
       "    <tr>\n",
       "      <td>0</td>\n",
       "      <td>Calexico East</td>\n",
       "      <td>California</td>\n",
       "      <td>2507</td>\n",
       "      <td>US-Mexico Border</td>\n",
       "      <td>2019-03-01</td>\n",
       "      <td>Trucks</td>\n",
       "      <td>34447</td>\n",
       "      <td>POINT (-115.48433000000001 32.67524)</td>\n",
       "    </tr>\n",
       "    <tr>\n",
       "      <td>1</td>\n",
       "      <td>Van Buren</td>\n",
       "      <td>Maine</td>\n",
       "      <td>108</td>\n",
       "      <td>US-Canada Border</td>\n",
       "      <td>2019-03-01</td>\n",
       "      <td>Rail Containers Full</td>\n",
       "      <td>428</td>\n",
       "      <td>POINT (-67.94271 47.16207)</td>\n",
       "    </tr>\n",
       "    <tr>\n",
       "      <td>2</td>\n",
       "      <td>Otay Mesa</td>\n",
       "      <td>California</td>\n",
       "      <td>2506</td>\n",
       "      <td>US-Mexico Border</td>\n",
       "      <td>2019-03-01</td>\n",
       "      <td>Trucks</td>\n",
       "      <td>81217</td>\n",
       "      <td>POINT (-117.05333 32.57333)</td>\n",
       "    </tr>\n",
       "    <tr>\n",
       "      <td>3</td>\n",
       "      <td>Nogales</td>\n",
       "      <td>Arizona</td>\n",
       "      <td>2604</td>\n",
       "      <td>US-Mexico Border</td>\n",
       "      <td>2019-03-01</td>\n",
       "      <td>Trains</td>\n",
       "      <td>62</td>\n",
       "      <td>POINT (-110.93361 31.340279999999996)</td>\n",
       "    </tr>\n",
       "    <tr>\n",
       "      <td>4</td>\n",
       "      <td>Trout River</td>\n",
       "      <td>New York</td>\n",
       "      <td>715</td>\n",
       "      <td>US-Canada Border</td>\n",
       "      <td>2019-03-01</td>\n",
       "      <td>Personal Vehicle Passengers</td>\n",
       "      <td>16377</td>\n",
       "      <td>POINT (-73.44253 44.990010000000005)</td>\n",
       "    </tr>\n",
       "  </tbody>\n",
       "</table>\n",
       "</div>"
      ],
      "text/plain": [
       "       Port Name       State  Port Code            Border       Date  \\\n",
       "0  Calexico East  California       2507  US-Mexico Border 2019-03-01   \n",
       "1      Van Buren       Maine        108  US-Canada Border 2019-03-01   \n",
       "2      Otay Mesa  California       2506  US-Mexico Border 2019-03-01   \n",
       "3        Nogales     Arizona       2604  US-Mexico Border 2019-03-01   \n",
       "4    Trout River    New York        715  US-Canada Border 2019-03-01   \n",
       "\n",
       "                       Measure  Value                               Location  \n",
       "0                       Trucks  34447   POINT (-115.48433000000001 32.67524)  \n",
       "1         Rail Containers Full    428             POINT (-67.94271 47.16207)  \n",
       "2                       Trucks  81217            POINT (-117.05333 32.57333)  \n",
       "3                       Trains     62  POINT (-110.93361 31.340279999999996)  \n",
       "4  Personal Vehicle Passengers  16377   POINT (-73.44253 44.990010000000005)  "
      ]
     },
     "execution_count": 2,
     "metadata": {},
     "output_type": "execute_result"
    }
   ],
   "source": [
    "raw=pd.read_csv(\"Border_Crossing_Entry_Data.csv\", parse_dates=['Date']) #Importing the data from csv and parsing the date column as date type\n",
    "print(\"Dimensions: \",raw.shape)\n",
    "raw.head()"
   ]
  },
  {
   "cell_type": "code",
   "execution_count": 3,
   "metadata": {},
   "outputs": [],
   "source": [
    "# Filtering the types of vehicles crossing the border\n",
    "drop_list = ['Trucks','Trains','Personal Vehicles','Buses']\n",
    "raw = raw[~raw.Measure.isin(drop_list)]"
   ]
  },
  {
   "cell_type": "code",
   "execution_count": 4,
   "metadata": {},
   "outputs": [
    {
     "data": {
      "text/html": [
       "<div>\n",
       "<style scoped>\n",
       "    .dataframe tbody tr th:only-of-type {\n",
       "        vertical-align: middle;\n",
       "    }\n",
       "\n",
       "    .dataframe tbody tr th {\n",
       "        vertical-align: top;\n",
       "    }\n",
       "\n",
       "    .dataframe thead th {\n",
       "        text-align: right;\n",
       "    }\n",
       "</style>\n",
       "<table border=\"1\" class=\"dataframe\">\n",
       "  <thead>\n",
       "    <tr style=\"text-align: right;\">\n",
       "      <th></th>\n",
       "      <th>Port Name</th>\n",
       "      <th>State</th>\n",
       "      <th>Port Code</th>\n",
       "      <th>Border</th>\n",
       "      <th>Date</th>\n",
       "      <th>Measure</th>\n",
       "      <th>Value</th>\n",
       "      <th>Location</th>\n",
       "    </tr>\n",
       "  </thead>\n",
       "  <tbody>\n",
       "    <tr>\n",
       "      <td>2367</td>\n",
       "      <td>Presidio</td>\n",
       "      <td>Texas</td>\n",
       "      <td>2403</td>\n",
       "      <td>US-Mexico Border</td>\n",
       "      <td>2018-12-01</td>\n",
       "      <td>Bus Passengers</td>\n",
       "      <td>238</td>\n",
       "      <td>POINT (-104.37167 29.56056)</td>\n",
       "    </tr>\n",
       "    <tr>\n",
       "      <td>2368</td>\n",
       "      <td>Anacortes</td>\n",
       "      <td>Washington</td>\n",
       "      <td>3010</td>\n",
       "      <td>US-Canada Border</td>\n",
       "      <td>2018-12-01</td>\n",
       "      <td>Personal Vehicle Passengers</td>\n",
       "      <td>5350</td>\n",
       "      <td>POINT (-122.61738999999999 48.49988)</td>\n",
       "    </tr>\n",
       "    <tr>\n",
       "      <td>2369</td>\n",
       "      <td>Brownsville</td>\n",
       "      <td>Texas</td>\n",
       "      <td>2301</td>\n",
       "      <td>US-Mexico Border</td>\n",
       "      <td>2018-12-01</td>\n",
       "      <td>Truck Containers Full</td>\n",
       "      <td>9871</td>\n",
       "      <td>POINT (-97.49722 25.90139)</td>\n",
       "    </tr>\n",
       "    <tr>\n",
       "      <td>2370</td>\n",
       "      <td>Maida</td>\n",
       "      <td>North Dakota</td>\n",
       "      <td>3416</td>\n",
       "      <td>US-Canada Border</td>\n",
       "      <td>2018-12-01</td>\n",
       "      <td>Truck Containers Empty</td>\n",
       "      <td>162</td>\n",
       "      <td>POINT (-98.36953 48.98568)</td>\n",
       "    </tr>\n",
       "    <tr>\n",
       "      <td>2371</td>\n",
       "      <td>Columbus</td>\n",
       "      <td>New Mexico</td>\n",
       "      <td>2406</td>\n",
       "      <td>US-Mexico Border</td>\n",
       "      <td>2018-12-01</td>\n",
       "      <td>Pedestrians</td>\n",
       "      <td>24168</td>\n",
       "      <td>POINT (-107.63944 31.827499999999997)</td>\n",
       "    </tr>\n",
       "  </tbody>\n",
       "</table>\n",
       "</div>"
      ],
      "text/plain": [
       "        Port Name         State  Port Code            Border       Date  \\\n",
       "2367     Presidio         Texas       2403  US-Mexico Border 2018-12-01   \n",
       "2368    Anacortes    Washington       3010  US-Canada Border 2018-12-01   \n",
       "2369  Brownsville         Texas       2301  US-Mexico Border 2018-12-01   \n",
       "2370        Maida  North Dakota       3416  US-Canada Border 2018-12-01   \n",
       "2371     Columbus    New Mexico       2406  US-Mexico Border 2018-12-01   \n",
       "\n",
       "                          Measure  Value  \\\n",
       "2367               Bus Passengers    238   \n",
       "2368  Personal Vehicle Passengers   5350   \n",
       "2369        Truck Containers Full   9871   \n",
       "2370       Truck Containers Empty    162   \n",
       "2371                  Pedestrians  24168   \n",
       "\n",
       "                                   Location  \n",
       "2367            POINT (-104.37167 29.56056)  \n",
       "2368   POINT (-122.61738999999999 48.49988)  \n",
       "2369             POINT (-97.49722 25.90139)  \n",
       "2370             POINT (-98.36953 48.98568)  \n",
       "2371  POINT (-107.63944 31.827499999999997)  "
      ]
     },
     "execution_count": 4,
     "metadata": {},
     "output_type": "execute_result"
    }
   ],
   "source": [
    "# Retaining data for the years from 1996 to 2018\n",
    "raw=raw.loc[~(raw['Date'] >= '2018-12-31')]\n",
    "raw.head()"
   ]
  },
  {
   "cell_type": "code",
   "execution_count": 5,
   "metadata": {},
   "outputs": [],
   "source": [
    "# Splitting the Year from Date variable and create a new column\n",
    "raw['Year']=raw['Date'].astype(str).str.slice(start=0,stop=4)"
   ]
  },
  {
   "cell_type": "code",
   "execution_count": 6,
   "metadata": {},
   "outputs": [],
   "source": [
    "df = raw.copy()"
   ]
  },
  {
   "cell_type": "code",
   "execution_count": 8,
   "metadata": {},
   "outputs": [],
   "source": [
    "# Spliting data as per Borders\n",
    "mex=raw[raw.Border=='US-Mexico Border']\n",
    "can=raw[raw.Border=='US-Canada Border']\n",
    "\n",
    "# Resetting the index\n",
    "mex.reset_index(drop=True, inplace=True)\n",
    "can.reset_index(drop=True, inplace=True)\n",
    "\n",
    "# Define category variable to split data as per Commercial and Passenger traffic\n",
    "categories=['Personal Vehicle Passengers', 'Bus Passengers', 'Pedestrians' ,'Train Passengers']\n",
    "can.loc[:,'Category'] = np.where(can.loc[:,'Measure'].isin(categories),'Passengers','Commercial')\n",
    "mex.loc[:,'Category'] = np.where(mex.loc[:,'Measure'].isin(categories),'Passengers','Commercial')\n",
    "\n",
    "pd.options.mode.chained_assignment = None"
   ]
  },
  {
   "cell_type": "code",
   "execution_count": 9,
   "metadata": {},
   "outputs": [
    {
     "data": {
      "text/plain": [
       "Text(0.5, 0.98, 'US-Canada Border State wise Crossing')"
      ]
     },
     "execution_count": 9,
     "metadata": {},
     "output_type": "execute_result"
    },
    {
     "data": {
      "image/png": "[encoded data removed]",
      "text/plain": [
       "<Figure size 864x432 with 1 Axes>"
      ]
     },
     "metadata": {
      "needs_background": "light"
     },
     "output_type": "display_data"
    }
   ],
   "source": [
    "# 'US-Canada Border': State wise\n",
    "can_summ=can.groupby(['State','Category'],as_index=False)['Value'].sum()\n",
    "cx = sns.catplot(\"State\",\"Value\", data=can_summ.sort_values('Value',ascending=False),hue=\"Category\",kind=\"bar\",palette=\"YlGnBu_r\",height=6,aspect=2,legend_out=False)\n",
    "cx.fig.subplots_adjust(top=.9)\n",
    "cx.fig.suptitle('US-Canada Border State wise Crossing', fontsize=16)"
   ]
  },
  {
   "cell_type": "code",
   "execution_count": 10,
   "metadata": {},
   "outputs": [
    {
     "data": {
      "text/plain": [
       "Text(0.5, 0.98, 'US-Mexico Border State wise Crossing')"
      ]
     },
     "execution_count": 10,
     "metadata": {},
     "output_type": "execute_result"
    },
    {
     "data": {
      "image/png": "[encoded data removed]",
      "text/plain": [
       "<Figure size 864x432 with 1 Axes>"
      ]
     },
     "metadata": {
      "needs_background": "light"
     },
     "output_type": "display_data"
    }
   ],
   "source": [
    "# 'US-Mexico Border': State wise\n",
    "mex_summ=mex.groupby(['State','Category'],as_index=False)['Value'].sum()\n",
    "mx = sns.catplot(\"State\",\"Value\", data=mex_summ.sort_values('Value',ascending=False),hue=\"Category\",kind=\"bar\",palette=\"YlGnBu_r\",height=6,aspect=2,legend_out=False)\n",
    "mx.fig.subplots_adjust(top=.9)\n",
    "mx.fig.suptitle('US-Mexico Border State wise Crossing', fontsize=16)"
   ]
  },
  {
   "cell_type": "code",
   "execution_count": 11,
   "metadata": {},
   "outputs": [
    {
     "data": {
      "text/plain": [
       "Text(0.5, 1.0, 'US-Canada Border')"
      ]
     },
     "execution_count": 11,
     "metadata": {},
     "output_type": "execute_result"
    },
    {
     "data": {
      "image/png": "[encoded data removed]",
      "text/plain": [
       "<Figure size 432x288 with 1 Axes>"
      ]
     },
     "metadata": {
      "needs_background": "light"
     },
     "output_type": "display_data"
    }
   ],
   "source": [
    "# Plotting time series analysis on yearwise passenger and commercial traffic fr US Canada border\n",
    "can_summ=can.groupby(['Year','Category'],as_index=False)['Value'].sum()\n",
    "ax = sns.lineplot(x=\"Year\", y=\"Value\", hue=\"Category\", data=can_summ)\n",
    "plt.xticks(rotation=90)\n",
    "ax.set_title('US-Canada Border')"
   ]
  },
  {
   "cell_type": "code",
   "execution_count": 12,
   "metadata": {},
   "outputs": [
    {
     "data": {
      "text/plain": [
       "Text(0.5, 1.0, 'US-Mexico Border')"
      ]
     },
     "execution_count": 12,
     "metadata": {},
     "output_type": "execute_result"
    },
    {
     "data": {
      "image/png": "[encoded data removed]",
      "text/plain": [
       "<Figure size 432x288 with 1 Axes>"
      ]
     },
     "metadata": {
      "needs_background": "light"
     },
     "output_type": "display_data"
    }
   ],
   "source": [
    "# Plotting time series analysis on yearwise passenger and commercial traffic fr US Canada border\n",
    "mex_summ=mex.groupby(['Year','Category'],as_index=False)['Value'].sum()\n",
    "ax = sns.lineplot(x=\"Year\", y=\"Value\", hue=\"Category\", data=mex_summ)\n",
    "plt.xticks(rotation=90)\n",
    "ax.set_title('US-Mexico Border')"
   ]
  },
  {
   "cell_type": "code",
   "execution_count": 13,
   "metadata": {},
   "outputs": [],
   "source": [
    "#Clean Up of Location Column to extract Latitude/Longitutes for each port of entry\n",
    "df['Location'] = df['Location'].str.strip('POINT').str.strip(' (').str.strip(')') \n",
    "df['Location'] = df['Location'].str.replace(\" \", \",\")\n",
    "df['Longitude']=df['Location'].str.split(',').str[0]\n",
    "df['Latitude']=df['Location'].str.split(',').str[1]"
   ]
  },
  {
   "cell_type": "code",
   "execution_count": 14,
   "metadata": {},
   "outputs": [
    {
     "data": {
      "text/html": [
       "<div>\n",
       "<style scoped>\n",
       "    .dataframe tbody tr th:only-of-type {\n",
       "        vertical-align: middle;\n",
       "    }\n",
       "\n",
       "    .dataframe tbody tr th {\n",
       "        vertical-align: top;\n",
       "    }\n",
       "\n",
       "    .dataframe thead th {\n",
       "        text-align: right;\n",
       "    }\n",
       "</style>\n",
       "<table border=\"1\" class=\"dataframe\">\n",
       "  <thead>\n",
       "    <tr style=\"text-align: right;\">\n",
       "      <th></th>\n",
       "      <th>Port Name</th>\n",
       "      <th>Latitude</th>\n",
       "      <th>Longitude</th>\n",
       "      <th>Value</th>\n",
       "    </tr>\n",
       "  </thead>\n",
       "  <tbody>\n",
       "    <tr>\n",
       "      <td>0</td>\n",
       "      <td>San Ysidro</td>\n",
       "      <td>32.54306</td>\n",
       "      <td>-117.02666999999998</td>\n",
       "      <td>944803</td>\n",
       "    </tr>\n",
       "    <tr>\n",
       "      <td>1</td>\n",
       "      <td>Calexico</td>\n",
       "      <td>32.67889</td>\n",
       "      <td>-115.49806000000001</td>\n",
       "      <td>513609</td>\n",
       "    </tr>\n",
       "    <tr>\n",
       "      <td>2</td>\n",
       "      <td>San Ysidro</td>\n",
       "      <td>32.54</td>\n",
       "      <td>-117.03</td>\n",
       "      <td>371868</td>\n",
       "    </tr>\n",
       "    <tr>\n",
       "      <td>3</td>\n",
       "      <td>Otay Mesa</td>\n",
       "      <td>32.57333</td>\n",
       "      <td>-117.05333</td>\n",
       "      <td>216079</td>\n",
       "    </tr>\n",
       "    <tr>\n",
       "      <td>4</td>\n",
       "      <td>Calexico</td>\n",
       "      <td>32.66</td>\n",
       "      <td>-115.49999999999999</td>\n",
       "      <td>187638</td>\n",
       "    </tr>\n",
       "  </tbody>\n",
       "</table>\n",
       "</div>"
      ],
      "text/plain": [
       "    Port Name  Latitude            Longitude   Value\n",
       "0  San Ysidro  32.54306  -117.02666999999998  944803\n",
       "1    Calexico  32.67889  -115.49806000000001  513609\n",
       "2  San Ysidro     32.54              -117.03  371868\n",
       "3   Otay Mesa  32.57333           -117.05333  216079\n",
       "4    Calexico     32.66  -115.49999999999999  187638"
      ]
     },
     "execution_count": 14,
     "metadata": {},
     "output_type": "execute_result"
    }
   ],
   "source": [
    "#Sub-frame with all the ports for California along with Crossing Details\n",
    "cmb = df[df['State'] == 'California'] \n",
    "calport = cmb.groupby(['Port Name', 'Latitude', 'Longitude']).agg({\"Value\" : \"mean\"}).sort_values(by = 'Value', ascending = False).reset_index()\n",
    "calport['Value'] = calport['Value'].astype(int)\n",
    "calport.head()"
   ]
  },
  {
   "cell_type": "code",
   "execution_count": 15,
   "metadata": {},
   "outputs": [
    {
     "data": {
      "text/html": [
       "<div style=\"width:100%;\"><div style=\"position:relative;width:100%;height:0;padding-bottom:60%;\"><iframe src=\"data:text/html;charset=utf-8;base64,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\" style=\"position:absolute;width:100%;height:100%;left:0;top:0;border:none !important;\" allowfullscreen webkitallowfullscreen mozallowfullscreen></iframe></div></div>"
      ],
      "text/plain": [
       "<folium.folium.Map at 0x1a2c39da90>"
      ]
     },
     "execution_count": 15,
     "metadata": {},
     "output_type": "execute_result"
    }
   ],
   "source": [
    "#Plot a Border Map of California highlighting the Ports, with their size proportional to the number of Crossings\n",
    "California=folium.Map([32.007, -114.1003],zoom_start=7)\n",
    "#location=location[0:2000]\n",
    "for lat,lon,val, nm in zip(calport['Latitude'],calport['Longitude'],calport['Value'], calport['Port Name']):\n",
    "     folium.CircleMarker([lat, lon],\n",
    "                            popup= nm + \" Count: \" +  str(val),\n",
    "                            radius=val * 0.00005, \n",
    "                            color='black',\n",
    "                            fill=True,\n",
    "                            fill_opacity=0.5,\n",
    "                            #fill_color=,\n",
    "                           ).add_to(California)\n",
    "#California.save('California.html')\n",
    "\n",
    "California"
   ]
  },
  {
   "cell_type": "code",
   "execution_count": 16,
   "metadata": {},
   "outputs": [],
   "source": [
    "#Sub-frame with all the ports for Texas along with Crossing Details\n",
    "tmb = df[df['State'] == 'Texas']\n",
    "texport = tmb.groupby(['Port Name', 'Latitude', 'Longitude']).agg({\"Value\" : \"mean\"}).sort_values(by = 'Value', ascending = False).reset_index()\n",
    "texport['Value'] = texport['Value'].astype(int)"
   ]
  },
  {
   "cell_type": "code",
   "execution_count": 17,
   "metadata": {},
   "outputs": [
    {
     "data": {
      "text/html": [
       "<div style=\"width:100%;\"><div style=\"position:relative;width:100%;height:0;padding-bottom:60%;\"><iframe src=\"data:text/html;charset=utf-8;base64,PCFET0NUWVBFIGh0bWw+CjxoZWFkPiAgICAKICAgIDxtZXRhIGh0dHAtZXF1aXY9ImNvbnRlbnQtdHlwZSIgY29udGVudD0idGV4dC9odG1sOyBjaGFyc2V0PVVURi04IiAvPgogICAgCiAgICAgICAgPHNjcmlwdD4KICAgICAgICAgICAgTF9OT19UT1VDSCA9IGZhbHNlOwogICAgICAgICAgICBMX0RJU0FCTEVfM0QgPSBmYWxzZTsKICAgICAgICA8L3NjcmlwdD4KICAgIAogICAgPHNjcmlwdCBzcmM9Imh0dHBzOi8vY2RuLmpzZGVsaXZyLm5ldC9ucG0vbGVhZmxldEAxLjUuMS9kaXN0L2xlYWZsZXQuanMiPjwvc2NyaXB0PgogICAgPHNjcmlwdCBzcmM9Imh0dHBzOi8vY29kZS5qcXVlcnkuY29tL2pxdWVyeS0xLjEyLjQubWluLmpzIj48L3NjcmlwdD4KICAgIDxzY3JpcHQgc3JjPSJodHRwczovL21heGNkbi5ib290c3RyYXBjZG4uY29tL2Jvb3RzdHJhcC8zLjIuMC9qcy9ib290c3RyYXAubWluLmpzIj48L3NjcmlwdD4KICAgIDxzY3JpcHQgc3JjPSJodHRwczovL2NkbmpzLmNsb3VkZmxhcmUuY29tL2FqYXgvbGlicy9MZWFmbGV0LmF3ZXNvbWUtbWFya2Vycy8yLjAuMi9sZWFmbGV0LmF3ZXNvbWUtbWFya2Vycy5qcyI+PC9zY3JpcHQ+CiAgICA8bGluayByZWw9InN0eWxlc2hlZXQiIGhyZWY9Imh0dHBzOi8vY2RuLmpzZGVsaXZyLm5ldC9ucG0vbGVhZmxldEAxLjUuMS9kaXN0L2xlYWZsZXQuY3NzIi8+CiAgICA8bGluayByZWw9InN0eWxlc2hlZXQiIGhyZWY9Imh0dHBzOi8vbWF4Y2RuLmJvb3RzdHJhcGNkbi5jb20vYm9vdHN0cmFwLzMuMi4wL2Nzcy9ib290c3RyYXAubWluLmNzcyIvPgogICAgPGxpbmsgcmVsPSJzdHlsZXNoZWV0IiBocmVmPSJodHRwczovL21heGNkbi5ib290c3RyYXBjZG4uY29tL2Jvb3RzdHJhcC8zLjIuMC9jc3MvYm9vdHN0cmFwLXRoZW1lLm1pbi5jc3MiLz4KICAgIDxsaW5rIHJlbD0ic3R5bGVzaGVldCIgaHJlZj0iaHR0cHM6Ly9tYXhjZG4uYm9vdHN0cmFwY2RuLmNvbS9mb250LWF3ZXNvbWUvNC42LjMvY3NzL2ZvbnQtYXdlc29tZS5taW4uY3NzIi8+CiAgICA8bGluayByZWw9InN0eWxlc2hlZXQiIGhyZWY9Imh0dHBzOi8vY2RuanMuY2xvdWRmbGFyZS5jb20vYWpheC9saWJzL0xlYWZsZXQuYXdlc29tZS1tYXJrZXJzLzIuMC4yL2xlYWZsZXQuYXdlc29tZS1tYXJrZXJzLmNzcyIvPgogICAgPGxpbmsgcmVsPSJzdHlsZXNoZWV0IiBocmVmPSJodHRwczovL3Jhd2Nkbi5naXRoYWNrLmNvbS9weXRob24tdmlzdWFsaXphdGlvbi9mb2xpdW0vbWFzdGVyL2ZvbGl1bS90ZW1wbGF0ZXMvbGVhZmxldC5hd2Vzb21lLnJvdGF0ZS5jc3MiLz4KICAgIDxzdHlsZT5odG1sLCBib2R5IHt3aWR0aDogMTAwJTtoZWlnaHQ6IDEwMCU7bWFyZ2luOiAwO3BhZGRpbmc6IDA7fTwvc3R5bGU+CiAgICA8c3R5bGU+I21hcCB7cG9zaXRpb246YWJzb2x1dGU7dG9wOjA7Ym90dG9tOjA7cmlnaHQ6MDtsZWZ0OjA7fTwvc3R5bGU+CiAgICAKICAgICAgICAgICAgPG1ldGEgbmFtZT0idmlld3BvcnQiIGNvbnRlbnQ9IndpZHRoPWRldmljZS13aWR0aCwKICAgICAgICAgICAgICAgIGluaXRpYWwtc2NhbGU9MS4wLCBtYXhpbXVtLXNjYWxlPTEuMCwgdXNlci1zY2FsYWJsZT1ubyIgLz4KICAgICAgICAgICAgPHN0eWxlPgogICAgICAgICAgICAgICAgI21hcF84ZTRmOTk4MzY5ZTg0MDg0YjJiY2U4ZWM5NWFmNTI1MSB7CiAgICAgICAgICAgICAgICAgICAgcG9zaXRpb246IHJlbGF0aXZlOwogICAgICAgICAgICAgICAgICAgIHdpZHRoOiAxMDAuMCU7CiAgICAgICAgICAgICAgICAgICAgaGVpZ2h0OiAxMDAuMCU7CiAgICAgICAgICAgICAgICAgICAgbGVmdDogMC4wJTsKICAgICAgICAgICAgICAgICAgICB0b3A6IDAuMCU7CiAgICAgICAgICAgICAgICB9CiAgICAgICAgICAgIDwvc3R5bGU+CiAgICAgICAgCjwvaGVhZD4KPGJvZHk+ICAgIAogICAgCiAgICAgICAgICAgIDxkaXYgY2xhc3M9ImZvbGl1bS1tYXAiIGlkPSJtYXBfOGU0Zjk5ODM2OWU4NDA4NGIyYmNlOGVjOTVhZjUyNTEiID48L2Rpdj4KICAgICAgICAKPC9ib2R5Pgo8c2NyaXB0PiAgICAKICAgIAogICAgICAgICAgICB2YXIgbWFwXzhlNGY5OTgzNjllODQwODRiMmJjZThlYzk1YWY1MjUxID0gTC5tYXAoCiAgICAgICAgICAgICAgICAibWFwXzhlNGY5OTgzNjllODQwODRiMmJjZThlYzk1YWY1MjUxIiwKICAgICAgICAgICAgICAgIHsKICAgICAgICAgICAgICAgICAgICBjZW50ZXI6IFszMi4wMDcsIC0xMDYuMTAwM10sCiAgICAgICAgICAgICAgICAgICAgY3JzOiBMLkNSUy5FUFNHMzg1NywKICAgICAgICAgICAgICAgICAgICB6b29tOiA1LAogICAgICAgICAgICAgICAgICAgIHpvb21Db250cm9sOiB0cnVlLAogICAgICAgICAgICAgICAgICAgIHByZWZlckNhbnZhczogZmFsc2UsCiAgICAgICAgICAgICAgICB9CiAgICAgICAgICAgICk7CgogICAgICAgICAgICAKCiAgICAgICAgCiAgICAKICAgICAgICAgICAgdmFyIHRpbGVfbGF5ZXJfODFiMzNlZTkxMTBhNGNlMWE5Y2I1MWRlOGQxMTk3MDggPSBMLnRpbGVMYXllcigKICAgICAgICAgICAgICAgICJodHRwczovL3tzfS50aWxlLm9wZW5zdHJlZXRtYXAub3JnL3t6fS97eH0ve3l9LnBuZyIsCiAgICAgICAgICAgICAgICB7ImF0dHJpYnV0aW9uIjogIkRhdGEgYnkgXHUwMDI2Y29weTsgXHUwMDNjYSBocmVmPVwiaHR0cDovL29wZW5zdHJlZXRtYXAub3JnXCJcdTAwM2VPcGVuU3RyZWV0TWFwXHUwMDNjL2FcdTAwM2UsIHVuZGVyIFx1MDAzY2EgaHJlZj1cImh0dHA6Ly93d3cub3BlbnN0cmVldG1hcC5vcmcvY29weXJpZ2h0XCJcdTAwM2VPRGJMXHUwMDNjL2FcdTAwM2UuIiwgImRldGVjdFJldGluYSI6IGZhbHNlLCAibWF4TmF0aXZlWm9vbSI6IDE4LCAibWF4Wm9vbSI6IDE4LCAibWluWm9vbSI6IDAsICJub1dyYXAiOiBmYWxzZSwgIm9wYWNpdHkiOiAxLCAic3ViZG9tYWlucyI6ICJhYmMiLCAidG1zIjogZmFsc2V9CiAgICAgICAgICAgICkuYWRkVG8obWFwXzhlNGY5OTgzNjllODQwODRiMmJjZThlYzk1YWY1MjUxKTsKICAgICAgICAKICAgIAogICAgICAgICAgICB2YXIgY2lyY2xlX21hcmtlcl8xZTE4ZTA4NjM2Mzg0NWM5YjdiYjI2OWI5ZTM5MDBkYSA9IEwuY2lyY2xlTWFya2VyKAogICAgICAgICAgICAgICAgWzMxLjc2LCAtMTA2LjQ1XSwKICAgICAgICAgICAgICAgIHsiYnViYmxpbmdNb3VzZUV2ZW50cyI6IHRydWUsICJjb2xvciI6ICJibGFjayIsICJkYXNoQXJyYXkiOiBudWxsLCAiZGFzaE9mZnNldCI6IG51bGwsICJmaWxsIjogdHJ1ZSwgImZpbGxDb2xvciI6ICJibGFjayIsICJmaWxsT3BhY2l0eSI6IDAuNSwgImZpbGxSdWxlIjogImV2ZW5vZGQiLCAibGluZUNhcCI6ICJyb3VuZCIsICJsaW5lSm9pbiI6ICJyb3VuZCIsICJvcGFjaXR5IjogMS4wLCAicmFkaXVzIjogMzcuNDc5MiwgInN0cm9rZSI6IHRydWUsICJ3ZWlnaHQiOiAzfQogICAgICAgICAgICApLmFkZFRvKG1hcF84ZTRmOTk4MzY5ZTg0MDg0YjJiY2U4ZWM5NWFmNTI1MSk7CiAgICAgICAgCiAgICAKICAgICAgICB2YXIgcG9wdXBfOWZiZjhhMjhhMTBlNDBmYThkNzVjZjk0OTNkNjNkMWMgPSBMLnBvcHVwKHsibWF4V2lkdGgiOiAiMTAwJSJ9KTsKCiAgICAgICAgCiAgICAgICAgICAgIHZhciBodG1sXzc3YjRhZDhjOGRkNzQwODA5NzVkM2QxZWY1MDM3ZDA4ID0gJChgPGRpdiBpZD0iaHRtbF83N2I0YWQ4YzhkZDc0MDgwOTc1ZDNkMWVmNTAzN2QwOCIgc3R5bGU9IndpZHRoOiAxMDAuMCU7IGhlaWdodDogMTAwLjAlOyI+RWwgUGFzbyBDb3VudDogMzc0NzkyPC9kaXY+YClbMF07CiAgICAgICAgICAgIHBvcHVwXzlmYmY4YTI4YTEwZTQwZmE4ZDc1Y2Y5NDkzZDYzZDFjLnNldENvbnRlbnQoaHRtbF83N2I0YWQ4YzhkZDc0MDgwOTc1ZDNkMWVmNTAzN2QwOCk7CiAgICAgICAgCgogICAgICAgIGNpcmNsZV9tYXJrZXJfMWUxOGUwODYzNjM4NDVjOWI3YmIyNjliOWUzOTAwZGEuYmluZFBvcHVwKHBvcHVwXzlmYmY4YTI4YTEwZTQwZmE4ZDc1Y2Y5NDkzZDYzZDFjKQogICAgICAgIDsKCiAgICAgICAgCiAgICAKICAgIAogICAgICAgICAgICB2YXIgY2lyY2xlX21hcmtlcl9jNmY0ZDFmMDY5NmI0ZjdmYmRkMWZmNzhkMjE4Y2JlYyA9IEwuY2lyY2xlTWFya2VyKAogICAgICAgICAgICAgICAgWzMxLjc1ODYxMDAwMDAwMDAwNCwgLTEwNi40ODYzOV0sCiAgICAgICAgICAgICAgICB7ImJ1YmJsaW5nTW91c2VFdmVudHMiOiB0cnVlLCAiY29sb3IiOiAiYmxhY2siLCAiZGFzaEFycmF5IjogbnVsbCwgImRhc2hPZmZzZXQiOiBudWxsLCAiZmlsbCI6IHRydWUsICJmaWxsQ29sb3IiOiAiYmxhY2siLCAiZmlsbE9wYWNpdHkiOiAwLjUsICJmaWxsUnVsZSI6ICJldmVub2RkIiwgImxpbmVDYXAiOiAicm91bmQiLCAibGluZUpvaW4iOiAicm91bmQiLCAib3BhY2l0eSI6IDEuMCwgInJhZGl1cyI6IDMxLjk1OTEwMDAwMDAwMDAwMywgInN0cm9rZSI6IHRydWUsICJ3ZWlnaHQiOiAzfQogICAgICAgICAgICApLmFkZFRvKG1hcF84ZTRmOTk4MzY5ZTg0MDg0YjJiY2U4ZWM5NWFmNTI1MSk7CiAgICAgICAgCiAgICAKICAgICAgICB2YXIgcG9wdXBfYmEwZTcwNTk1ZGViNDdlNjk1OWM4MTVhZmUxOGU4NDkgPSBMLnBvcHVwKHsibWF4V2lkdGgiOiAiMTAwJSJ9KTsKCiAgICAgICAgCiAgICAgICAgICAgIHZhciBodG1sX2Y1ZmFlZTVjYzAzOTQxMWE4NDIxNjE1MzZmMDRkYWZkID0gJChgPGRpdiBpZD0iaHRtbF9mNWZhZWU1Y2MwMzk0MTFhODQyMTYxNTM2ZjA0ZGFmZCIgc3R5bGU9IndpZHRoOiAxMDAuMCU7IGhlaWdodDogMTAwLjAlOyI+RWwgUGFzbyBDb3VudDogMzE5NTkxPC9kaXY+YClbMF07CiAgICAgICAgICAgIHBvcHVwX2JhMGU3MDU5NWRlYjQ3ZTY5NTljODE1YWZlMThlODQ5LnNldENvbnRlbnQoaHRtbF9mNWZhZWU1Y2MwMzk0MTFhODQyMTYxNTM2ZjA0ZGFmZCk7CiAgICAgICAgCgogICAgICAgIGNpcmNsZV9tYXJrZXJfYzZmNGQxZjA2OTZiNGY3ZmJkZDFmZjc4ZDIxOGNiZWMuYmluZFBvcHVwKHBvcHVwX2JhMGU3MDU5NWRlYjQ3ZTY5NTljODE1YWZlMThlODQ5KQogICAgICAgIDsKCiAgICAgICAgCiAgICAKICAgIAogICAgICAgICAgICB2YXIgY2lyY2xlX21hcmtlcl9hMWRjZGFlYWE5MDg0NzkyOGRhZDU5ZDEyYTNmOGMxMSA9IEwuY2lyY2xlTWFya2VyKAogICAgICAgICAgICAgICAgWzI3LjUsIC05OS41MV0sCiAgICAgICAgICAgICAgICB7ImJ1YmJsaW5nTW91c2VFdmVudHMiOiB0cnVlLCAiY29sb3IiOiAiYmxhY2siLCAiZGFzaEFycmF5IjogbnVsbCwgImRhc2hPZmZzZXQiOiBudWxsLCAiZmlsbCI6IHRydWUsICJmaWxsQ29sb3IiOiAiYmxhY2siLCAiZmlsbE9wYWNpdHkiOiAwLjUsICJmaWxsUnVsZSI6ICJldmVub2RkIiwgImxpbmVDYXAiOiAicm91bmQiLCAibGluZUpvaW4iOiAicm91bmQiLCAib3BhY2l0eSI6IDEuMCwgInJhZGl1cyI6IDIxLjY5MjEsICJzdHJva2UiOiB0cnVlLCAid2VpZ2h0IjogM30KICAgICAgICAgICAgKS5hZGRUbyhtYXBfOGU0Zjk5ODM2OWU4NDA4NGIyYmNlOGVjOTVhZjUyNTEpOwogICAgICAgIAogICAgCiAgICAgICAgdmFyIHBvcHVwXzU4MmEwYjMzYmI1NzRiYmY4MDU4NDU5ZTNjMDg4YjU1ID0gTC5wb3B1cCh7Im1heFdpZHRoIjogIjEwMCUifSk7CgogICAgICAgIAogICAgICAgICAgICB2YXIgaHRtbF8yNTFlZWI0ZGFjM2Q0YTk4OGQ5N2ZmZDA4NGQ1ODllNyA9ICQoYDxkaXYgaWQ9Imh0bWxfMjUxZWViNGRhYzNkNGE5ODhkOTdmZmQwODRkNTg5ZTciIHN0eWxlPSJ3aWR0aDogMTAwLjAlOyBoZWlnaHQ6IDEwMC4wJTsiPkxhcmVkbyBDb3VudDogMjE2OTIxPC9kaXY+YClbMF07CiAgICAgICAgICAgIHBvcHVwXzU4MmEwYjMzYmI1NzRiYmY4MDU4NDU5ZTNjMDg4YjU1LnNldENvbnRlbnQoaHRtbF8yNTFlZWI0ZGFjM2Q0YTk4OGQ5N2ZmZDA4NGQ1ODllNyk7CiAgICAgICAgCgogICAgICAgIGNpcmNsZV9tYXJrZXJfYTFkY2RhZWFhOTA4NDc5MjhkYWQ1OWQxMmEzZjhjMTEuYmluZFBvcHVwKHBvcHVwXzU4MmEwYjMzYmI1NzRiYmY4MDU4NDU5ZTNjMDg4YjU1KQogICAgICAgIDsKCiAgICAgICAgCiAgICAKICAgIAogICAgICAgICAgICB2YXIgY2lyY2xlX21hcmtlcl9iZDdjOTRlNGI0MDM0MDEyYjRmMGRkMWY1MzM0NmI4NSA9IEwuY2lyY2xlTWFya2VyKAogICAgICAgICAgICAgICAgWzI3LjUwNjExLCAtOTkuNTA3MjJdLAogICAgICAgICAgICAgICAgeyJidWJibGluZ01vdXNlRXZlbnRzIjogdHJ1ZSwgImNvbG9yIjogImJsYWNrIiwgImRhc2hBcnJheSI6IG51bGwsICJkYXNoT2Zmc2V0IjogbnVsbCwgImZpbGwiOiB0cnVlLCAiZmlsbENvbG9yIjogImJsYWNrIiwgImZpbGxPcGFjaXR5IjogMC41LCAiZmlsbFJ1bGUiOiAiZXZlbm9kZCIsICJsaW5lQ2FwIjogInJvdW5kIiwgImxpbmVKb2luIjogInJvdW5kIiwgIm9wYWNpdHkiOiAxLjAsICJyYWRpdXMiOiAyMC44MTczLCAic3Ryb2tlIjogdHJ1ZSwgIndlaWdodCI6IDN9CiAgICAgICAgICAgICkuYWRkVG8obWFwXzhlNGY5OTgzNjllODQwODRiMmJjZThlYzk1YWY1MjUxKTsKICAgICAgICAKICAgIAogICAgICAgIHZhciBwb3B1cF9iNGFiZjJmYzc2NDA0ZjY4OWYzYTM0M2E5YTY2YWY2ZCA9IEwucG9wdXAoeyJtYXhXaWR0aCI6ICIxMDAlIn0pOwoKICAgICAgICAKICAgICAgICAgICAgdmFyIGh0bWxfNzMyOThhNmQ5MWEzNDc2OWI4ZWUxYjI5YWNhZWE0YzYgPSAkKGA8ZGl2IGlkPSJodG1sXzczMjk4YTZkOTFhMzQ3NjliOGVlMWIyOWFjYWVhNGM2IiBzdHlsZT0id2lkdGg6IDEwMC4wJTsgaGVpZ2h0OiAxMDAuMCU7Ij5MYXJlZG8gQ291bnQ6IDIwODE3MzwvZGl2PmApWzBdOwogICAgICAgICAgICBwb3B1cF9iNGFiZjJmYzc2NDA0ZjY4OWYzYTM0M2E5YTY2YWY2ZC5zZXRDb250ZW50KGh0bWxfNzMyOThhNmQ5MWEzNDc2OWI4ZWUxYjI5YWNhZWE0YzYpOwogICAgICAgIAoKICAgICAgICBjaXJjbGVfbWFya2VyX2JkN2M5NGU0YjQwMzQwMTJiNGYwZGQxZjUzMzQ2Yjg1LmJpbmRQb3B1cChwb3B1cF9iNGFiZjJmYzc2NDA0ZjY4OWYzYTM0M2E5YTY2YWY2ZCkKICAgICAgICA7CgogICAgICAgIAogICAgCiAgICAKICAgICAgICAgICAgdmFyIGNpcmNsZV9tYXJrZXJfZTU4ZWQ1ZTY4ZTlmNGFjODg4ZTRhYWNkYjlhZGI4MDQgPSBMLmNpcmNsZU1hcmtlcigKICAgICAgICAgICAgICAgIFsyNi4xLCAtOTguMjYyNzhdLAogICAgICAgICAgICAgICAgeyJidWJibGluZ01vdXNlRXZlbnRzIjogdHJ1ZSwgImNvbG9yIjogImJsYWNrIiwgImRhc2hBcnJheSI6IG51bGwsICJkYXNoT2Zmc2V0IjogbnVsbCwgImZpbGwiOiB0cnVlLCAiZmlsbENvbG9yIjogImJsYWNrIiwgImZpbGxPcGFjaXR5IjogMC41LCAiZmlsbFJ1bGUiOiAiZXZlbm9kZCIsICJsaW5lQ2FwIjogInJvdW5kIiwgImxpbmVKb2luIjogInJvdW5kIiwgIm9wYWNpdHkiOiAxLjAsICJyYWRpdXMiOiAyMC40NDc1LCAic3Ryb2tlIjogdHJ1ZSwgIndlaWdodCI6IDN9CiAgICAgICAgICAgICkuYWRkVG8obWFwXzhlNGY5OTgzNjllODQwODRiMmJjZThlYzk1YWY1MjUxKTsKICAgICAgICAKICAgIAogICAgICAgIHZhciBwb3B1cF83YTM1ZGExNzU2MTM0MzllOGNhNjhlNzc5ODYyZDNhOSA9IEwucG9wdXAoeyJtYXhXaWR0aCI6ICIxMDAlIn0pOwoKICAgICAgICAKICAgICAgICAgICAgdmFyIGh0bWxfMzkxNDc3NGRjOTI4NDk5Y2E1YmIwZjQ2YTU1OTliMDMgPSAkKGA8ZGl2IGlkPSJodG1sXzM5MTQ3NzRkYzkyODQ5OWNhNWJiMGY0NmE1NTk5YjAzIiBzdHlsZT0id2lkdGg6IDEwMC4wJTsgaGVpZ2h0OiAxMDAuMCU7Ij5IaWRhbGdvIENvdW50OiAyMDQ0NzU8L2Rpdj5gKVswXTsKICAgICAgICAgICAgcG9wdXBfN2EzNWRhMTc1NjEzNDM5ZThjYTY4ZTc3OTg2MmQzYTkuc2V0Q29udGVudChodG1sXzM5MTQ3NzRkYzkyODQ5OWNhNWJiMGY0NmE1NTk5YjAzKTsKICAgICAgICAKCiAgICAgICAgY2lyY2xlX21hcmtlcl9lNThlZDVlNjhlOWY0YWM4ODhlNGFhY2RiOWFkYjgwNC5iaW5kUG9wdXAocG9wdXBfN2EzNWRhMTc1NjEzNDM5ZThjYTY4ZTc3OTg2MmQzYTkpCiAgICAgICAgOwoKICAgICAgICAKICAgIAogICAgCiAgICAgICAgICAgIHZhciBjaXJjbGVfbWFya2VyXzI1MDhlNGExZDIwZjQ5NTM5YWIyOTkyODNkMzI5MjdiID0gTC5jaXJjbGVNYXJrZXIoCiAgICAgICAgICAgICAgICBbMjYuMSwgLTk4LjI3XSwKICAgICAgICAgICAgICAgIHsiYnViYmxpbmdNb3VzZUV2ZW50cyI6IHRydWUsICJjb2xvciI6ICJibGFjayIsICJkYXNoQXJyYXkiOiBudWxsLCAiZGFzaE9mZnNldCI6IG51bGwsICJmaWxsIjogdHJ1ZSwgImZpbGxDb2xvciI6ICJibGFjayIsICJmaWxsT3BhY2l0eSI6IDAuNSwgImZpbGxSdWxlIjogImV2ZW5vZGQiLCAibGluZUNhcCI6ICJyb3VuZCIsICJsaW5lSm9pbiI6ICJyb3VuZCIsICJvcGFjaXR5IjogMS4wLCAicmFkaXVzIjogMTkuMzA2NSwgInN0cm9rZSI6IHRydWUsICJ3ZWlnaHQiOiAzfQogICAgICAgICAgICApLmFkZFRvKG1hcF84ZTRmOTk4MzY5ZTg0MDg0YjJiY2U4ZWM5NWFmNTI1MSk7CiAgICAgICAgCiAgICAKICAgICAgICB2YXIgcG9wdXBfNWZlM2Y4YTE5Yzk5NDUzY2I1ZTQ5ZWU1MmY5OTA0ODQgPSBMLnBvcHVwKHsibWF4V2lkdGgiOiAiMTAwJSJ9KTsKCiAgICAgICAgCiAgICAgICAgICAgIHZhciBodG1sXzllYTBlZDFjZDY3NDQ1NWVhMDBhYzI2MzdhMDcxYzViID0gJChgPGRpdiBpZD0iaHRtbF85ZWEwZWQxY2Q2NzQ0NTVlYTAwYWMyNjM3YTA3MWM1YiIgc3R5bGU9IndpZHRoOiAxMDAuMCU7IGhlaWdodDogMTAwLjAlOyI+SGlkYWxnbyBDb3VudDogMTkzMDY1PC9kaXY+YClbMF07CiAgICAgICAgICAgIHBvcHVwXzVmZTNmOGExOWM5OTQ1M2NiNWU0OWVlNTJmOTkwNDg0LnNldENvbnRlbnQoaHRtbF85ZWEwZWQxY2Q2NzQ0NTVlYTAwYWMyNjM3YTA3MWM1Yik7CiAgICAgICAgCgogICAgICAgIGNpcmNsZV9tYXJrZXJfMjUwOGU0YTFkMjBmNDk1MzlhYjI5OTI4M2QzMjkyN2IuYmluZFBvcHVwKHBvcHVwXzVmZTNmOGExOWM5OTQ1M2NiNWU0OWVlNTJmOTkwNDg0KQogICAgICAgIDsKCiAgICAgICAgCiAgICAKICAgIAogICAgICAgICAgICB2YXIgY2lyY2xlX21hcmtlcl85ZDExMjE0YmVjODA0Yzk3OThkYmMzNjgyMzlmZDY4YSA9IEwuY2lyY2xlTWFya2VyKAogICAgICAgICAgICAgICAgWzI1Ljg5LCAtOTcuNV0sCiAgICAgICAgICAgICAgICB7ImJ1YmJsaW5nTW91c2VFdmVudHMiOiB0cnVlLCAiY29sb3IiOiAiYmxhY2siLCAiZGFzaEFycmF5IjogbnVsbCwgImRhc2hPZmZzZXQiOiBudWxsLCAiZmlsbCI6IHRydWUsICJmaWxsQ29sb3IiOiAiYmxhY2siLCAiZmlsbE9wYWNpdHkiOiAwLjUsICJmaWxsUnVsZSI6ICJldmVub2RkIiwgImxpbmVDYXAiOiAicm91bmQiLCAibGluZUpvaW4iOiAicm91bmQiLCAib3BhY2l0eSI6IDEuMCwgInJhZGl1cyI6IDE3LjA3NDUsICJzdHJva2UiOiB0cnVlLCAid2VpZ2h0IjogM30KICAgICAgICAgICAgKS5hZGRUbyhtYXBfOGU0Zjk5ODM2OWU4NDA4NGIyYmNlOGVjOTVhZjUyNTEpOwogICAgICAgIAogICAgCiAgICAgICAgdmFyIHBvcHVwXzUxNTYyOWE0YWNmZDQzNmQ5OGUzNTJlMWI0ZTYwZWY2ID0gTC5wb3B1cCh7Im1heFdpZHRoIjogIjEwMCUifSk7CgogICAgICAgIAogICAgICAgICAgICB2YXIgaHRtbF85OWI5NWUxNDA5MjU0M2M1OTBmYTk2ODA1NzUzODU1ZiA9ICQoYDxkaXYgaWQ9Imh0bWxfOTliOTVlMTQwOTI1NDNjNTkwZmE5NjgwNTc1Mzg1NWYiIHN0eWxlPSJ3aWR0aDogMTAwLjAlOyBoZWlnaHQ6IDEwMC4wJTsiPkJyb3duc3ZpbGxlIENvdW50OiAxNzA3NDU8L2Rpdj5gKVswXTsKICAgICAgICAgICAgcG9wdXBfNTE1NjI5YTRhY2ZkNDM2ZDk4ZTM1MmUxYjRlNjBlZjYuc2V0Q29udGVudChodG1sXzk5Yjk1ZTE0MDkyNTQzYzU5MGZhOTY4MDU3NTM4NTVmKTsKICAgICAgICAKCiAgICAgICAgY2lyY2xlX21hcmtlcl85ZDExMjE0YmVjODA0Yzk3OThkYmMzNjgyMzlmZDY4YS5iaW5kUG9wdXAocG9wdXBfNTE1NjI5YTRhY2ZkNDM2ZDk4ZTM1MmUxYjRlNjBlZjYpCiAgICAgICAgOwoKICAgICAgICAKICAgIAogICAgCiAgICAgICAgICAgIHZhciBjaXJjbGVfbWFya2VyXzVjMTU0ZDA3NDQ5MTRiMzI5Mzk5YTEwNzQxYjhmZWU1ID0gTC5jaXJjbGVNYXJrZXIoCiAgICAgICAgICAgICAgICBbMjUuOTAxMzksIC05Ny40OTcyMl0sCiAgICAgICAgICAgICAgICB7ImJ1YmJsaW5nTW91c2VFdmVudHMiOiB0cnVlLCAiY29sb3IiOiAiYmxhY2siLCAiZGFzaEFycmF5IjogbnVsbCwgImRhc2hPZmZzZXQiOiBudWxsLCAiZmlsbCI6IHRydWUsICJmaWxsQ29sb3IiOiAiYmxhY2siLCAiZmlsbE9wYWNpdHkiOiAwLjUsICJmaWxsUnVsZSI6ICJldmVub2RkIiwgImxpbmVDYXAiOiAicm91bmQiLCAibGluZUpvaW4iOiAicm91bmQiLCAib3BhY2l0eSI6IDEuMCwgInJhZGl1cyI6IDE1Ljg5ODAwMDAwMDAwMDAwMSwgInN0cm9rZSI6IHRydWUsICJ3ZWlnaHQiOiAzfQogICAgICAgICAgICApLmFkZFRvKG1hcF84ZTRmOTk4MzY5ZTg0MDg0YjJiY2U4ZWM5NWFmNTI1MSk7CiAgICAgICAgCiAgICAKICAgICAgICB2YXIgcG9wdXBfMWMxZmNkMjllZTlkNDM5ZWI5YjExNjZmMjFiYzMxOGUgPSBMLnBvcHVwKHsibWF4V2lkdGgiOiAiMTAwJSJ9KTsKCiAgICAgICAgCiAgICAgICAgICAgIHZhciBodG1sXzRiZTY0YTE5MzQwNDQ5MTk4ZDNhNWRmNTRlOGU5ZmY1ID0gJChgPGRpdiBpZD0iaHRtbF80YmU2NGExOTM0MDQ0OTE5OGQzYTVkZjU0ZThlOWZmNSIgc3R5bGU9IndpZHRoOiAxMDAuMCU7IGhlaWdodDogMTAwLjAlOyI+QnJvd25zdmlsbGUgQ291bnQ6IDE1ODk4MDwvZGl2PmApWzBdOwogICAgICAgICAgICBwb3B1cF8xYzFmY2QyOWVlOWQ0MzllYjliMTE2NmYyMWJjMzE4ZS5zZXRDb250ZW50KGh0bWxfNGJlNjRhMTkzNDA0NDkxOThkM2E1ZGY1NGU4ZTlmZjUpOwogICAgICAgIAoKICAgICAgICBjaXJjbGVfbWFya2VyXzVjMTU0ZDA3NDQ5MTRiMzI5Mzk5YTEwNzQxYjhmZWU1LmJpbmRQb3B1cChwb3B1cF8xYzFmY2QyOWVlOWQ0MzllYjliMTE2NmYyMWJjMzE4ZSkKICAgICAgICA7CgogICAgICAgIAogICAgCiAgICAKICAgICAgICAgICAgdmFyIGNpcmNsZV9tYXJrZXJfNzljNjY1OTNmNDkzNDkyMGIxODBmNDBhZmFjN2I2ZDMgPSBMLmNpcmNsZU1hcmtlcigKICAgICAgICAgICAgICAgIFsyOC43MDg4OSwgLTEwMC40OTkxN10sCiAgICAgICAgICAgICAgICB7ImJ1YmJsaW5nTW91c2VFdmVudHMiOiB0cnVlLCAiY29sb3IiOiAiYmxhY2siLCAiZGFzaEFycmF5IjogbnVsbCwgImRhc2hPZmZzZXQiOiBudWxsLCAiZmlsbCI6IHRydWUsICJmaWxsQ29sb3IiOiAiYmxhY2siLCAiZmlsbE9wYWNpdHkiOiAwLjUsICJmaWxsUnVsZSI6ICJldmVub2RkIiwgImxpbmVDYXAiOiAicm91bmQiLCAibGluZUpvaW4iOiAicm91bmQiLCAib3BhY2l0eSI6IDEuMCwgInJhZGl1cyI6IDguNTA5NywgInN0cm9rZSI6IHRydWUsICJ3ZWlnaHQiOiAzfQogICAgICAgICAgICApLmFkZFRvKG1hcF84ZTRmOTk4MzY5ZTg0MDg0YjJiY2U4ZWM5NWFmNTI1MSk7CiAgICAgICAgCiAgICAKICAgICAgICB2YXIgcG9wdXBfZDM3OTBlYjg0MGU1NDIwMzhlZTRmMDg5YmI3MDc4MzggPSBMLnBvcHVwKHsibWF4V2lkdGgiOiAiMTAwJSJ9KTsKCiAgICAgICAgCiAgICAgICAgICAgIHZhciBodG1sXzc2ZGUwMGMxNzM4MzRjMjlhNTFkMjdlYWIwOTRkM2UwID0gJChgPGRpdiBpZD0iaHRtbF83NmRlMDBjMTczODM0YzI5YTUxZDI3ZWFiMDk0ZDNlMCIgc3R5bGU9IndpZHRoOiAxMDAuMCU7IGhlaWdodDogMTAwLjAlOyI+RWFnbGUgUGFzcyBDb3VudDogODUwOTc8L2Rpdj5gKVswXTsKICAgICAgICAgICAgcG9wdXBfZDM3OTBlYjg0MGU1NDIwMzhlZTRmMDg5YmI3MDc4Mzguc2V0Q29udGVudChodG1sXzc2ZGUwMGMxNzM4MzRjMjlhNTFkMjdlYWIwOTRkM2UwKTsKICAgICAgICAKCiAgICAgICAgY2lyY2xlX21hcmtlcl83OWM2NjU5M2Y0OTM0OTIwYjE4MGY0MGFmYWM3YjZkMy5iaW5kUG9wdXAocG9wdXBfZDM3OTBlYjg0MGU1NDIwMzhlZTRmMDg5YmI3MDc4MzgpCiAgICAgICAgOwoKICAgICAgICAKICAgIAogICAgCiAgICAgICAgICAgIHZhciBjaXJjbGVfbWFya2VyX2Y1NDgxMDcwOTI4YzQwMDFhMGI5ZjgyNmQ5MGRhODcxID0gTC5jaXJjbGVNYXJrZXIoCiAgICAgICAgICAgICAgICBbMjguNzEsIC0xMDAuNTFdLAogICAgICAgICAgICAgICAgeyJidWJibGluZ01vdXNlRXZlbnRzIjogdHJ1ZSwgImNvbG9yIjogImJsYWNrIiwgImRhc2hBcnJheSI6IG51bGwsICJkYXNoT2Zmc2V0IjogbnVsbCwgImZpbGwiOiB0cnVlLCAiZmlsbENvbG9yIjogImJsYWNrIiwgImZpbGxPcGFjaXR5IjogMC41LCAiZmlsbFJ1bGUiOiAiZXZlbm9kZCIsICJsaW5lQ2FwIjogInJvdW5kIiwgImxpbmVKb2luIjogInJvdW5kIiwgIm9wYWNpdHkiOiAxLjAsICJyYWRpdXMiOiA4LjMxMjYsICJzdHJva2UiOiB0cnVlLCAid2VpZ2h0IjogM30KICAgICAgICAgICAgKS5hZGRUbyhtYXBfOGU0Zjk5ODM2OWU4NDA4NGIyYmNlOGVjOTVhZjUyNTEpOwogICAgICAgIAogICAgCiAgICAgICAgdmFyIHBvcHVwXzE3MmI4YjFhMmFiZjQxNDliNmM4MjRhNTYzNmU3NjIzID0gTC5wb3B1cCh7Im1heFdpZHRoIjogIjEwMCUifSk7CgogICAgICAgIAogICAgICAgICAgICB2YXIgaHRtbF8yOGFiZDE5ZjlhY2M0NWZlYjdkMzE0OTBkYzY4NTE0MiA9ICQoYDxkaXYgaWQ9Imh0bWxfMjhhYmQxOWY5YWNjNDVmZWI3ZDMxNDkwZGM2ODUxNDIiIHN0eWxlPSJ3aWR0aDogMTAwLjAlOyBoZWlnaHQ6IDEwMC4wJTsiPkVhZ2xlIFBhc3MgQ291bnQ6IDgzMTI2PC9kaXY+YClbMF07CiAgICAgICAgICAgIHBvcHVwXzE3MmI4YjFhMmFiZjQxNDliNmM4MjRhNTYzNmU3NjIzLnNldENvbnRlbnQoaHRtbF8yOGFiZDE5ZjlhY2M0NWZlYjdkMzE0OTBkYzY4NTE0Mik7CiAgICAgICAgCgogICAgICAgIGNpcmNsZV9tYXJrZXJfZjU0ODEwNzA5MjhjNDAwMWEwYjlmODI2ZDkwZGE4NzEuYmluZFBvcHVwKHBvcHVwXzE3MmI4YjFhMmFiZjQxNDliNmM4MjRhNTYzNmU3NjIzKQogICAgICAgIDsKCiAgICAgICAgCiAgICAKICAgIAogICAgICAgICAgICB2YXIgY2lyY2xlX21hcmtlcl9kMzg2ZmFlNTEzZjI0YzcxODE5YTFiMDc0ODdlMzBiZCA9IEwuY2lyY2xlTWFya2VyKAogICAgICAgICAgICAgICAgWzI2LjA2MTY3MDAwMDAwMDAwMywgLTk3Ljk0ODg5XSwKICAgICAgICAgICAgICAgIHsiYnViYmxpbmdNb3VzZUV2ZW50cyI6IHRydWUsICJjb2xvciI6ICJibGFjayIsICJkYXNoQXJyYXkiOiBudWxsLCAiZGFzaE9mZnNldCI6IG51bGwsICJmaWxsIjogdHJ1ZSwgImZpbGxDb2xvciI6ICJibGFjayIsICJmaWxsT3BhY2l0eSI6IDAuNSwgImZpbGxSdWxlIjogImV2ZW5vZGQiLCAibGluZUNhcCI6ICJyb3VuZCIsICJsaW5lSm9pbiI6ICJyb3VuZCIsICJvcGFjaXR5IjogMS4wLCAicmFkaXVzIjogNy44MjYwMDAwMDAwMDAwMDA1LCAic3Ryb2tlIjogdHJ1ZSwgIndlaWdodCI6IDN9CiAgICAgICAgICAgICkuYWRkVG8obWFwXzhlNGY5OTgzNjllODQwODRiMmJjZThlYzk1YWY1MjUxKTsKICAgICAgICAKICAgIAogICAgICAgIHZhciBwb3B1cF8xOTNiMGE0ZThlZjY0ZTcyYTE2YjQwMTMyYWRjNTUwNyA9IEwucG9wdXAoeyJtYXhXaWR0aCI6ICIxMDAlIn0pOwoKICAgICAgICAKICAgICAgICAgICAgdmFyIGh0bWxfZTQ0YTA5NTE2OThjNGZkMDk0ZjIwMjAyNTk1ZTdjNTYgPSAkKGA8ZGl2IGlkPSJodG1sX2U0NGEwOTUxNjk4YzRmZDA5NGYyMDIwMjU5NWU3YzU2IiBzdHlsZT0id2lkdGg6IDEwMC4wJTsgaGVpZ2h0OiAxMDAuMCU7Ij5Qcm9ncmVzbyBDb3VudDogNzgyNjA8L2Rpdj5gKVswXTsKICAgICAgICAgICAgcG9wdXBfMTkzYjBhNGU4ZWY2NGU3MmExNmI0MDEzMmFkYzU1MDcuc2V0Q29udGVudChodG1sX2U0NGEwOTUxNjk4YzRmZDA5NGYyMDIwMjU5NWU3YzU2KTsKICAgICAgICAKCiAgICAgICAgY2lyY2xlX21hcmtlcl9kMzg2ZmFlNTEzZjI0YzcxODE5YTFiMDc0ODdlMzBiZC5iaW5kUG9wdXAocG9wdXBfMTkzYjBhNGU4ZWY2NGU3MmExNmI0MDEzMmFkYzU1MDcpCiAgICAgICAgOwoKICAgICAgICAKICAgIAogICAgCiAgICAgICAgICAgIHZhciBjaXJjbGVfbWFya2VyXzA2OTNjZGMwZmM3OTQ1NGJiNWIwMjQxZDRjMmQxNDg1ID0gTC5jaXJjbGVNYXJrZXIoCiAgICAgICAgICAgICAgICBbMjkuMzYyNSwgLTEwMC44OTYzOV0sCiAgICAgICAgICAgICAgICB7ImJ1YmJsaW5nTW91c2VFdmVudHMiOiB0cnVlLCAiY29sb3IiOiAiYmxhY2siLCAiZGFzaEFycmF5IjogbnVsbCwgImRhc2hPZmZzZXQiOiBudWxsLCAiZmlsbCI6IHRydWUsICJmaWxsQ29sb3IiOiAiYmxhY2siLCAiZmlsbE9wYWNpdHkiOiAwLjUsICJmaWxsUnVsZSI6ICJldmVub2RkIiwgImxpbmVDYXAiOiAicm91bmQiLCAibGluZUpvaW4iOiAicm91bmQiLCAib3BhY2l0eSI6IDEuMCwgInJhZGl1cyI6IDcuMjM0ODAwMDAwMDAwMDAxLCAic3Ryb2tlIjogdHJ1ZSwgIndlaWdodCI6IDN9CiAgICAgICAgICAgICkuYWRkVG8obWFwXzhlNGY5OTgzNjllODQwODRiMmJjZThlYzk1YWY1MjUxKTsKICAgICAgICAKICAgIAogICAgICAgIHZhciBwb3B1cF9kNmI5Yzg0OGFhNmE0YjZkYTViNjA1MTdmYTUxNTAzYiA9IEwucG9wdXAoeyJtYXhXaWR0aCI6ICIxMDAlIn0pOwoKICAgICAgICAKICAgICAgICAgICAgdmFyIGh0bWxfMzQyNzk3NWQ5OTQzNGI0OTg1NDBjNGY4ODZlMDI4YjcgPSAkKGA8ZGl2IGlkPSJodG1sXzM0Mjc5NzVkOTk0MzRiNDk4NTQwYzRmODg2ZTAyOGI3IiBzdHlsZT0id2lkdGg6IDEwMC4wJTsgaGVpZ2h0OiAxMDAuMCU7Ij5EZWwgUmlvIENvdW50OiA3MjM0ODwvZGl2PmApWzBdOwogICAgICAgICAgICBwb3B1cF9kNmI5Yzg0OGFhNmE0YjZkYTViNjA1MTdmYTUxNTAzYi5zZXRDb250ZW50KGh0bWxfMzQyNzk3NWQ5OTQzNGI0OTg1NDBjNGY4ODZlMDI4YjcpOwogICAgICAgIAoKICAgICAgICBjaXJjbGVfbWFya2VyXzA2OTNjZGMwZmM3OTQ1NGJiNWIwMjQxZDRjMmQxNDg1LmJpbmRQb3B1cChwb3B1cF9kNmI5Yzg0OGFhNmE0YjZkYTViNjA1MTdmYTUxNTAzYikKICAgICAgICA7CgogICAgICAgIAogICAgCiAgICAKICAgICAgICAgICAgdmFyIGNpcmNsZV9tYXJrZXJfM2M2YzYwMGFmOTg4NDk0NjhlMzk5MTEyYTNkMWM0MTcgPSBMLmNpcmNsZU1hcmtlcigKICAgICAgICAgICAgICAgIFsyOS4zMzAwMDAwMDAwMDAwMDIsIC0xMDAuOTNdLAogICAgICAgICAgICAgICAgeyJidWJibGluZ01vdXNlRXZlbnRzIjogdHJ1ZSwgImNvbG9yIjogImJsYWNrIiwgImRhc2hBcnJheSI6IG51bGwsICJkYXNoT2Zmc2V0IjogbnVsbCwgImZpbGwiOiB0cnVlLCAiZmlsbENvbG9yIjogImJsYWNrIiwgImZpbGxPcGFjaXR5IjogMC41LCAiZmlsbFJ1bGUiOiAiZXZlbm9kZCIsICJsaW5lQ2FwIjogInJvdW5kIiwgImxpbmVKb2luIjogInJvdW5kIiwgIm9wYWNpdHkiOiAxLjAsICJyYWRpdXMiOiA0LjM0NDEsICJzdHJva2UiOiB0cnVlLCAid2VpZ2h0IjogM30KICAgICAgICAgICAgKS5hZGRUbyhtYXBfOGU0Zjk5ODM2OWU4NDA4NGIyYmNlOGVjOTVhZjUyNTEpOwogICAgICAgIAogICAgCiAgICAgICAgdmFyIHBvcHVwX2VlZmZkNTU2MjA1MzRlNmViODYzYTZkMTA1NTFmMWE3ID0gTC5wb3B1cCh7Im1heFdpZHRoIjogIjEwMCUifSk7CgogICAgICAgIAogICAgICAgICAgICB2YXIgaHRtbF9kZjY4MTVmNTQ1NWM0M2ZlOWU3NzFjYzM0NWQ5ODJiZCA9ICQoYDxkaXYgaWQ9Imh0bWxfZGY2ODE1ZjU0NTVjNDNmZTllNzcxY2MzNDVkOTgyYmQiIHN0eWxlPSJ3aWR0aDogMTAwLjAlOyBoZWlnaHQ6IDEwMC4wJTsiPkRlbCBSaW8gQ291bnQ6IDQzNDQxPC9kaXY+YClbMF07CiAgICAgICAgICAgIHBvcHVwX2VlZmZkNTU2MjA1MzRlNmViODYzYTZkMTA1NTFmMWE3LnNldENvbnRlbnQoaHRtbF9kZjY4MTVmNTQ1NWM0M2ZlOWU3NzFjYzM0NWQ5ODJiZCk7CiAgICAgICAgCgogICAgICAgIGNpcmNsZV9tYXJrZXJfM2M2YzYwMGFmOTg4NDk0NjhlMzk5MTEyYTNkMWM0MTcuYmluZFBvcHVwKHBvcHVwX2VlZmZkNTU2MjA1MzRlNmViODYzYTZkMTA1NTFmMWE3KQogICAgICAgIDsKCiAgICAgICAgCiAgICAKICAgIAogICAgICAgICAgICB2YXIgY2lyY2xlX21hcmtlcl81ZmI3NTQ1N2I4Zjk0MzBlODIzZWMzMzRhNTdlZDdjZSA9IEwuY2lyY2xlTWFya2VyKAogICAgICAgICAgICAgICAgWzI2LjA2LCAtOTcuOTVdLAogICAgICAgICAgICAgICAgeyJidWJibGluZ01vdXNlRXZlbnRzIjogdHJ1ZSwgImNvbG9yIjogImJsYWNrIiwgImRhc2hBcnJheSI6IG51bGwsICJkYXNoT2Zmc2V0IjogbnVsbCwgImZpbGwiOiB0cnVlLCAiZmlsbENvbG9yIjogImJsYWNrIiwgImZpbGxPcGFjaXR5IjogMC41LCAiZmlsbFJ1bGUiOiAiZXZlbm9kZCIsICJsaW5lQ2FwIjogInJvdW5kIiwgImxpbmVKb2luIjogInJvdW5kIiwgIm9wYWNpdHkiOiAxLjAsICJyYWRpdXMiOiAzLjg2NjYsICJzdHJva2UiOiB0cnVlLCAid2VpZ2h0IjogM30KICAgICAgICAgICAgKS5hZGRUbyhtYXBfOGU0Zjk5ODM2OWU4NDA4NGIyYmNlOGVjOTVhZjUyNTEpOwogICAgICAgIAogICAgCiAgICAgICAgdmFyIHBvcHVwX2U0YTYzNTY2M2ZhMzRjNjJhYzBjNzIzMmI0MDU4YzNiID0gTC5wb3B1cCh7Im1heFdpZHRoIjogIjEwMCUifSk7CgogICAgICAgIAogICAgICAgICAgICB2YXIgaHRtbF82NjcyZmUwZjdkMjE0YzEyYTI0ZTczMDMzODM4ZTA0NSA9ICQoYDxkaXYgaWQ9Imh0bWxfNjY3MmZlMGY3ZDIxNGMxMmEyNGU3MzAzMzgzOGUwNDUiIHN0eWxlPSJ3aWR0aDogMTAwLjAlOyBoZWlnaHQ6IDEwMC4wJTsiPlByb2dyZXNvIENvdW50OiAzODY2NjwvZGl2PmApWzBdOwogICAgICAgICAgICBwb3B1cF9lNGE2MzU2NjNmYTM0YzYyYWMwYzcyMzJiNDA1OGMzYi5zZXRDb250ZW50KGh0bWxfNjY3MmZlMGY3ZDIxNGMxMmEyNGU3MzAzMzgzOGUwNDUpOwogICAgICAgIAoKICAgICAgICBjaXJjbGVfbWFya2VyXzVmYjc1NDU3YjhmOTQzMGU4MjNlYzMzNGE1N2VkN2NlLmJpbmRQb3B1cChwb3B1cF9lNGE2MzU2NjNmYTM0YzYyYWMwYzcyMzJiNDA1OGMzYikKICAgICAgICA7CgogICAgICAgIAogICAgCiAgICAKICAgICAgICAgICAgdmFyIGNpcmNsZV9tYXJrZXJfZmVhYjk2OTFiZjRiNGU4MzkwZDYwN2FlM2FjNGY5M2MgPSBMLmNpcmNsZU1hcmtlcigKICAgICAgICAgICAgICAgIFsyNi40LCAtOTkuMDJdLAogICAgICAgICAgICAgICAgeyJidWJibGluZ01vdXNlRXZlbnRzIjogdHJ1ZSwgImNvbG9yIjogImJsYWNrIiwgImRhc2hBcnJheSI6IG51bGwsICJkYXNoT2Zmc2V0IjogbnVsbCwgImZpbGwiOiB0cnVlLCAiZmlsbENvbG9yIjogImJsYWNrIiwgImZpbGxPcGFjaXR5IjogMC41LCAiZmlsbFJ1bGUiOiAiZXZlbm9kZCIsICJsaW5lQ2FwIjogInJvdW5kIiwgImxpbmVKb2luIjogInJvdW5kIiwgIm9wYWNpdHkiOiAxLjAsICJyYWRpdXMiOiAzLjIwMTksICJzdHJva2UiOiB0cnVlLCAid2VpZ2h0IjogM30KICAgICAgICAgICAgKS5hZGRUbyhtYXBfOGU0Zjk5ODM2OWU4NDA4NGIyYmNlOGVjOTVhZjUyNTEpOwogICAgICAgIAogICAgCiAgICAgICAgdmFyIHBvcHVwXzkwODVkOTYwZTkyZjQwODlhYmY5MTYxZTIyNTU1ZTgxID0gTC5wb3B1cCh7Im1heFdpZHRoIjogIjEwMCUifSk7CgogICAgICAgIAogICAgICAgICAgICB2YXIgaHRtbF9hNjFlNThiZGE0Yzg0OWVkYTU5ZWQ2MzkzNTEzODEzMyA9ICQoYDxkaXYgaWQ9Imh0bWxfYTYxZTU4YmRhNGM4NDllZGE1OWVkNjM5MzUxMzgxMzMiIHN0eWxlPSJ3aWR0aDogMTAwLjAlOyBoZWlnaHQ6IDEwMC4wJTsiPlJvbWEgQ291bnQ6IDMyMDE5PC9kaXY+YClbMF07CiAgICAgICAgICAgIHBvcHVwXzkwODVkOTYwZTkyZjQwODlhYmY5MTYxZTIyNTU1ZTgxLnNldENvbnRlbnQoaHRtbF9hNjFlNThiZGE0Yzg0OWVkYTU5ZWQ2MzkzNTEzODEzMyk7CiAgICAgICAgCgogICAgICAgIGNpcmNsZV9tYXJrZXJfZmVhYjk2OTFiZjRiNGU4MzkwZDYwN2FlM2FjNGY5M2MuYmluZFBvcHVwKHBvcHVwXzkwODVkOTYwZTkyZjQwODlhYmY5MTYxZTIyNTU1ZTgxKQogICAgICAgIDsKCiAgICAgICAgCiAgICAKICAgIAogICAgICAgICAgICB2YXIgY2lyY2xlX21hcmtlcl9hMjRkYTY4OGMwNzk0YjgzOGVjZTQyY2JjYTI1YTk3NSA9IEwuY2lyY2xlTWFya2VyKAogICAgICAgICAgICAgICAgWzMxLjUwMjIxOTk5OTk5OTk5OCwgLTEwNi4xNTgwNl0sCiAgICAgICAgICAgICAgICB7ImJ1YmJsaW5nTW91c2VFdmVudHMiOiB0cnVlLCAiY29sb3IiOiAiYmxhY2siLCAiZGFzaEFycmF5IjogbnVsbCwgImRhc2hPZmZzZXQiOiBudWxsLCAiZmlsbCI6IHRydWUsICJmaWxsQ29sb3IiOiAiYmxhY2siLCAiZmlsbE9wYWNpdHkiOiAwLjUsICJmaWxsUnVsZSI6ICJldmVub2RkIiwgImxpbmVDYXAiOiAicm91bmQiLCAibGluZUpvaW4iOiAicm91bmQiLCAib3BhY2l0eSI6IDEuMCwgInJhZGl1cyI6IDIuOTgzNCwgInN0cm9rZSI6IHRydWUsICJ3ZWlnaHQiOiAzfQogICAgICAgICAgICApLmFkZFRvKG1hcF84ZTRmOTk4MzY5ZTg0MDg0YjJiY2U4ZWM5NWFmNTI1MSk7CiAgICAgICAgCiAgICAKICAgICAgICB2YXIgcG9wdXBfNzM4ZDE5NzcxMTU1NDM2Y2I2NTQ3YzgyYjQ3NjUwODUgPSBMLnBvcHVwKHsibWF4V2lkdGgiOiAiMTAwJSJ9KTsKCiAgICAgICAgCiAgICAgICAgICAgIHZhciBodG1sX2Y3MzE1ZWI1NDNiZjRlYTNiMTE5MTEyNDFhZjRkNTk3ID0gJChgPGRpdiBpZD0iaHRtbF9mNzMxNWViNTQzYmY0ZWEzYjExOTExMjQxYWY0ZDU5NyIgc3R5bGU9IndpZHRoOiAxMDAuMCU7IGhlaWdodDogMTAwLjAlOyI+VG9ybmlsbG8tRmFiZW5zIENvdW50OiAyOTgzNDwvZGl2PmApWzBdOwogICAgICAgICAgICBwb3B1cF83MzhkMTk3NzExNTU0MzZjYjY1NDdjODJiNDc2NTA4NS5zZXRDb250ZW50KGh0bWxfZjczMTVlYjU0M2JmNGVhM2IxMTkxMTI0MWFmNGQ1OTcpOwogICAgICAgIAoKICAgICAgICBjaXJjbGVfbWFya2VyX2EyNGRhNjg4YzA3OTRiODM4ZWNlNDJjYmNhMjVhOTc1LmJpbmRQb3B1cChwb3B1cF83MzhkMTk3NzExNTU0MzZjYjY1NDdjODJiNDc2NTA4NSkKICAgICAgICA7CgogICAgICAgIAogICAgCiAgICAKICAgICAgICAgICAgdmFyIGNpcmNsZV9tYXJrZXJfMzY2Y2VhMGNkY2RlNDI0NDg1MzFjYjU2NThkMTlmMWIgPSBMLmNpcmNsZU1hcmtlcigKICAgICAgICAgICAgICAgIFsyNi40MDM2MSwgLTk5LjAxODMzXSwKICAgICAgICAgICAgICAgIHsiYnViYmxpbmdNb3VzZUV2ZW50cyI6IHRydWUsICJjb2xvciI6ICJibGFjayIsICJkYXNoQXJyYXkiOiBudWxsLCAiZGFzaE9mZnNldCI6IG51bGwsICJmaWxsIjogdHJ1ZSwgImZpbGxDb2xvciI6ICJibGFjayIsICJmaWxsT3BhY2l0eSI6IDAuNSwgImZpbGxSdWxlIjogImV2ZW5vZGQiLCAibGluZUNhcCI6ICJyb3VuZCIsICJsaW5lSm9pbiI6ICJyb3VuZCIsICJvcGFjaXR5IjogMS4wLCAicmFkaXVzIjogMi45ODI0LCAic3Ryb2tlIjogdHJ1ZSwgIndlaWdodCI6IDN9CiAgICAgICAgICAgICkuYWRkVG8obWFwXzhlNGY5OTgzNjllODQwODRiMmJjZThlYzk1YWY1MjUxKTsKICAgICAgICAKICAgIAogICAgICAgIHZhciBwb3B1cF80MzdkM2I0OGM3MDk0ZjUxOGU2Y2JlNmMxOTQwOGE3MiA9IEwucG9wdXAoeyJtYXhXaWR0aCI6ICIxMDAlIn0pOwoKICAgICAgICAKICAgICAgICAgICAgdmFyIGh0bWxfYWU3MDM2YmE3YmQwNGQ2OTllMjdkN2UwOTQ5OGEzMzYgPSAkKGA8ZGl2IGlkPSJodG1sX2FlNzAzNmJhN2JkMDRkNjk5ZTI3ZDdlMDk0OThhMzM2IiBzdHlsZT0id2lkdGg6IDEwMC4wJTsgaGVpZ2h0OiAxMDAuMCU7Ij5Sb21hIENvdW50OiAyOTgyNDwvZGl2PmApWzBdOwogICAgICAgICAgICBwb3B1cF80MzdkM2I0OGM3MDk0ZjUxOGU2Y2JlNmMxOTQwOGE3Mi5zZXRDb250ZW50KGh0bWxfYWU3MDM2YmE3YmQwNGQ2OTllMjdkN2UwOTQ5OGEzMzYpOwogICAgICAgIAoKICAgICAgICBjaXJjbGVfbWFya2VyXzM2NmNlYTBjZGNkZTQyNDQ4NTMxY2I1NjU4ZDE5ZjFiLmJpbmRQb3B1cChwb3B1cF80MzdkM2I0OGM3MDk0ZjUxOGU2Y2JlNmMxOTQwOGE3MikKICAgICAgICA7CgogICAgICAgIAogICAgCiAgICAKICAgICAgICAgICAgdmFyIGNpcmNsZV9tYXJrZXJfNWUwMGI0YzNlOGQzNGNjN2E0OWNiOGEwZTI3YzM5OTcgPSBMLmNpcmNsZU1hcmtlcigKICAgICAgICAgICAgICAgIFsyOS41NjA1NiwgLTEwNC4zNzE2N10sCiAgICAgICAgICAgICAgICB7ImJ1YmJsaW5nTW91c2VFdmVudHMiOiB0cnVlLCAiY29sb3IiOiAiYmxhY2siLCAiZGFzaEFycmF5IjogbnVsbCwgImRhc2hPZmZzZXQiOiBudWxsLCAiZmlsbCI6IHRydWUsICJmaWxsQ29sb3IiOiAiYmxhY2siLCAiZmlsbE9wYWNpdHkiOiAwLjUsICJmaWxsUnVsZSI6ICJldmVub2RkIiwgImxpbmVDYXAiOiAicm91bmQiLCAibGluZUpvaW4iOiAicm91bmQiLCAib3BhY2l0eSI6IDEuMCwgInJhZGl1cyI6IDIuODIxMiwgInN0cm9rZSI6IHRydWUsICJ3ZWlnaHQiOiAzfQogICAgICAgICAgICApLmFkZFRvKG1hcF84ZTRmOTk4MzY5ZTg0MDg0YjJiY2U4ZWM5NWFmNTI1MSk7CiAgICAgICAgCiAgICAKICAgICAgICB2YXIgcG9wdXBfMjQ1YzQwZWM2MmFlNDlhNWJkZjE3MmIwNWFmMTdiZDcgPSBMLnBvcHVwKHsibWF4V2lkdGgiOiAiMTAwJSJ9KTsKCiAgICAgICAgCiAgICAgICAgICAgIHZhciBodG1sXzBiMjI2MWNlMzJmMDRlYjI4NzdkZjMzMzhhYjMwOTllID0gJChgPGRpdiBpZD0iaHRtbF8wYjIyNjFjZTMyZjA0ZWIyODc3ZGYzMzM4YWIzMDk5ZSIgc3R5bGU9IndpZHRoOiAxMDAuMCU7IGhlaWdodDogMTAwLjAlOyI+UHJlc2lkaW8gQ291bnQ6IDI4MjEyPC9kaXY+YClbMF07CiAgICAgICAgICAgIHBvcHVwXzI0NWM0MGVjNjJhZTQ5YTViZGYxNzJiMDVhZjE3YmQ3LnNldENvbnRlbnQoaHRtbF8wYjIyNjFjZTMyZjA0ZWIyODc3ZGYzMzM4YWIzMDk5ZSk7CiAgICAgICAgCgogICAgICAgIGNpcmNsZV9tYXJrZXJfNWUwMGI0YzNlOGQzNGNjN2E0OWNiOGEwZTI3YzM5OTcuYmluZFBvcHVwKHBvcHVwXzI0NWM0MGVjNjJhZTQ5YTViZGYxNzJiMDVhZjE3YmQ3KQogICAgICAgIDsKCiAgICAgICAgCiAgICAKICAgIAogICAgICAgICAgICB2YXIgY2lyY2xlX21hcmtlcl9jN2I1YWRhZTMwNjg0ZDg3OTI2YWIzNDc0NmQ1NTIwNCA9IEwuY2lyY2xlTWFya2VyKAogICAgICAgICAgICAgICAgWzI2LjM3OTQ0LCAtOTguODJdLAogICAgICAgICAgICAgICAgeyJidWJibGluZ01vdXNlRXZlbnRzIjogdHJ1ZSwgImNvbG9yIjogImJsYWNrIiwgImRhc2hBcnJheSI6IG51bGwsICJkYXNoT2Zmc2V0IjogbnVsbCwgImZpbGwiOiB0cnVlLCAiZmlsbENvbG9yIjogImJsYWNrIiwgImZpbGxPcGFjaXR5IjogMC41LCAiZmlsbFJ1bGUiOiAiZXZlbm9kZCIsICJsaW5lQ2FwIjogInJvdW5kIiwgImxpbmVKb2luIjogInJvdW5kIiwgIm9wYWNpdHkiOiAxLjAsICJyYWRpdXMiOiAxLjk5OSwgInN0cm9rZSI6IHRydWUsICJ3ZWlnaHQiOiAzfQogICAgICAgICAgICApLmFkZFRvKG1hcF84ZTRmOTk4MzY5ZTg0MDg0YjJiY2U4ZWM5NWFmNTI1MSk7CiAgICAgICAgCiAgICAKICAgICAgICB2YXIgcG9wdXBfODlhNWEyOWRlZTk2NGQ0MGJlNTQyMDE2Nzc3Y2Y2ODQgPSBMLnBvcHVwKHsibWF4V2lkdGgiOiAiMTAwJSJ9KTsKCiAgICAgICAgCiAgICAgICAgICAgIHZhciBodG1sX2UwNzEwZDQwYTdmYzQ1OTdhN2VkZGUyN2E2YmEzODY2ID0gJChgPGRpdiBpZD0iaHRtbF9lMDcxMGQ0MGE3ZmM0NTk3YTdlZGRlMjdhNmJhMzg2NiIgc3R5bGU9IndpZHRoOiAxMDAuMCU7IGhlaWdodDogMTAwLjAlOyI+UmlvIEdyYW5kZSBDaXR5IENvdW50OiAxOTk5MDwvZGl2PmApWzBdOwogICAgICAgICAgICBwb3B1cF84OWE1YTI5ZGVlOTY0ZDQwYmU1NDIwMTY3NzdjZjY4NC5zZXRDb250ZW50KGh0bWxfZTA3MTBkNDBhN2ZjNDU5N2E3ZWRkZTI3YTZiYTM4NjYpOwogICAgICAgIAoKICAgICAgICBjaXJjbGVfbWFya2VyX2M3YjVhZGFlMzA2ODRkODc5MjZhYjM0NzQ2ZDU1MjA0LmJpbmRQb3B1cChwb3B1cF84OWE1YTI5ZGVlOTY0ZDQwYmU1NDIwMTY3NzdjZjY4NCkKICAgICAgICA7CgogICAgICAgIAogICAgCiAgICAKICAgICAgICAgICAgdmFyIGNpcmNsZV9tYXJrZXJfOGNjYjkzM2I4MzZjNDU4MjlhNjI3OTVkMGFiYjQ3ODAgPSBMLmNpcmNsZU1hcmtlcigKICAgICAgICAgICAgICAgIFsyNi4zNywgLTk4LjhdLAogICAgICAgICAgICAgICAgeyJidWJibGluZ01vdXNlRXZlbnRzIjogdHJ1ZSwgImNvbG9yIjogImJsYWNrIiwgImRhc2hBcnJheSI6IG51bGwsICJkYXNoT2Zmc2V0IjogbnVsbCwgImZpbGwiOiB0cnVlLCAiZmlsbENvbG9yIjogImJsYWNrIiwgImZpbGxPcGFjaXR5IjogMC41LCAiZmlsbFJ1bGUiOiAiZXZlbm9kZCIsICJsaW5lQ2FwIjogInJvdW5kIiwgImxpbmVKb2luIjogInJvdW5kIiwgIm9wYWNpdHkiOiAxLjAsICJyYWRpdXMiOiAxLjkzMzEsICJzdHJva2UiOiB0cnVlLCAid2VpZ2h0IjogM30KICAgICAgICAgICAgKS5hZGRUbyhtYXBfOGU0Zjk5ODM2OWU4NDA4NGIyYmNlOGVjOTVhZjUyNTEpOwogICAgICAgIAogICAgCiAgICAgICAgdmFyIHBvcHVwX2QwM2QyOWU4YTNmZjRlZjQ4ZTcxMzdkODQ5NGFhNDI0ID0gTC5wb3B1cCh7Im1heFdpZHRoIjogIjEwMCUifSk7CgogICAgICAgIAogICAgICAgICAgICB2YXIgaHRtbF82YWM2MjViYjNiZDA0ZWNhOGZiZTQxZTRjNDdmYTY1MCA9ICQoYDxkaXYgaWQ9Imh0bWxfNmFjNjI1YmIzYmQwNGVjYThmYmU0MWU0YzQ3ZmE2NTAiIHN0eWxlPSJ3aWR0aDogMTAwLjAlOyBoZWlnaHQ6IDEwMC4wJTsiPlJpbyBHcmFuZGUgQ2l0eSBDb3VudDogMTkzMzE8L2Rpdj5gKVswXTsKICAgICAgICAgICAgcG9wdXBfZDAzZDI5ZThhM2ZmNGVmNDhlNzEzN2Q4NDk0YWE0MjQuc2V0Q29udGVudChodG1sXzZhYzYyNWJiM2JkMDRlY2E4ZmJlNDFlNGM0N2ZhNjUwKTsKICAgICAgICAKCiAgICAgICAgY2lyY2xlX21hcmtlcl84Y2NiOTMzYjgzNmM0NTgyOWE2Mjc5NWQwYWJiNDc4MC5iaW5kUG9wdXAocG9wdXBfZDAzZDI5ZThhM2ZmNGVmNDhlNzEzN2Q4NDk0YWE0MjQpCiAgICAgICAgOwoKICAgICAgICAKICAgIAogICAgCiAgICAgICAgICAgIHZhciBjaXJjbGVfbWFya2VyXzczNDgxZWRkMWVmYjQ0MDlhYjNkYzAwYWI3NDM1MGVmID0gTC5jaXJjbGVNYXJrZXIoCiAgICAgICAgICAgICAgICBbMjkuNTYsIC0xMDQuMzkwMDAwMDAwMDAwMDFdLAogICAgICAgICAgICAgICAgeyJidWJibGluZ01vdXNlRXZlbnRzIjogdHJ1ZSwgImNvbG9yIjogImJsYWNrIiwgImRhc2hBcnJheSI6IG51bGwsICJkYXNoT2Zmc2V0IjogbnVsbCwgImZpbGwiOiB0cnVlLCAiZmlsbENvbG9yIjogImJsYWNrIiwgImZpbGxPcGFjaXR5IjogMC41LCAiZmlsbFJ1bGUiOiAiZXZlbm9kZCIsICJsaW5lQ2FwIjogInJvdW5kIiwgImxpbmVKb2luIjogInJvdW5kIiwgIm9wYWNpdHkiOiAxLjAsICJyYWRpdXMiOiAxLjc3NzYsICJzdHJva2UiOiB0cnVlLCAid2VpZ2h0IjogM30KICAgICAgICAgICAgKS5hZGRUbyhtYXBfOGU0Zjk5ODM2OWU4NDA4NGIyYmNlOGVjOTVhZjUyNTEpOwogICAgICAgIAogICAgCiAgICAgICAgdmFyIHBvcHVwXzY1NjUwY2RjMTdhZjQ5ZDJhNTAyZWM0ZWQwNjViZmVmID0gTC5wb3B1cCh7Im1heFdpZHRoIjogIjEwMCUifSk7CgogICAgICAgIAogICAgICAgICAgICB2YXIgaHRtbF85YjA1NWRkMTk0M2U0NzE2YWJjZTMyOGJmYzhmZWNlNyA9ICQoYDxkaXYgaWQ9Imh0bWxfOWIwNTVkZDE5NDNlNDcxNmFiY2UzMjhiZmM4ZmVjZTciIHN0eWxlPSJ3aWR0aDogMTAwLjAlOyBoZWlnaHQ6IDEwMC4wJTsiPlByZXNpZGlvIENvdW50OiAxNzc3NjwvZGl2PmApWzBdOwogICAgICAgICAgICBwb3B1cF82NTY1MGNkYzE3YWY0OWQyYTUwMmVjNGVkMDY1YmZlZi5zZXRDb250ZW50KGh0bWxfOWIwNTVkZDE5NDNlNDcxNmFiY2UzMjhiZmM4ZmVjZTcpOwogICAgICAgIAoKICAgICAgICBjaXJjbGVfbWFya2VyXzczNDgxZWRkMWVmYjQ0MDlhYjNkYzAwYWI3NDM1MGVmLmJpbmRQb3B1cChwb3B1cF82NTY1MGNkYzE3YWY0OWQyYTUwMmVjNGVkMDY1YmZlZikKICAgICAgICA7CgogICAgICAgIAogICAgCiAgICAKICAgICAgICAgICAgdmFyIGNpcmNsZV9tYXJrZXJfZDViOTEyMjFiM2NlNDNjMzk5ZWQ5ODc1ZmFjNmIzZGMgPSBMLmNpcmNsZU1hcmtlcigKICAgICAgICAgICAgICAgIFszMS40Mjk5OTk5OTk5OTk5OTYsIC0xMDYuMTRdLAogICAgICAgICAgICAgICAgeyJidWJibGluZ01vdXNlRXZlbnRzIjogdHJ1ZSwgImNvbG9yIjogImJsYWNrIiwgImRhc2hBcnJheSI6IG51bGwsICJkYXNoT2Zmc2V0IjogbnVsbCwgImZpbGwiOiB0cnVlLCAiZmlsbENvbG9yIjogImJsYWNrIiwgImZpbGxPcGFjaXR5IjogMC41LCAiZmlsbFJ1bGUiOiAiZXZlbm9kZCIsICJsaW5lQ2FwIjogInJvdW5kIiwgImxpbmVKb2luIjogInJvdW5kIiwgIm9wYWNpdHkiOiAxLjAsICJyYWRpdXMiOiAxLjM1ODQsICJzdHJva2UiOiB0cnVlLCAid2VpZ2h0IjogM30KICAgICAgICAgICAgKS5hZGRUbyhtYXBfOGU0Zjk5ODM2OWU4NDA4NGIyYmNlOGVjOTVhZjUyNTEpOwogICAgICAgIAogICAgCiAgICAgICAgdmFyIHBvcHVwXzZhNTAyN2YyN2U4ZTQyOGU5N2I5ODBmMmUzYWU1MmYwID0gTC5wb3B1cCh7Im1heFdpZHRoIjogIjEwMCUifSk7CgogICAgICAgIAogICAgICAgICAgICB2YXIgaHRtbF8wNWE0YzM2NjcyOWM0ZGMyYTY5NDJlNTljNzYyODIyMSA9ICQoYDxkaXYgaWQ9Imh0bWxfMDVhNGMzNjY3MjljNGRjMmE2OTQyZTU5Yzc2MjgyMjEiIHN0eWxlPSJ3aWR0aDogMTAwLjAlOyBoZWlnaHQ6IDEwMC4wJTsiPlRvcm5pbGxvLUZhYmVucyBDb3VudDogMTM1ODQ8L2Rpdj5gKVswXTsKICAgICAgICAgICAgcG9wdXBfNmE1MDI3ZjI3ZThlNDI4ZTk3Yjk4MGYyZTNhZTUyZjAuc2V0Q29udGVudChodG1sXzA1YTRjMzY2NzI5YzRkYzJhNjk0MmU1OWM3NjI4MjIxKTsKICAgICAgICAKCiAgICAgICAgY2lyY2xlX21hcmtlcl9kNWI5MTIyMWIzY2U0M2MzOTllZDk4NzVmYWM2YjNkYy5iaW5kUG9wdXAocG9wdXBfNmE1MDI3ZjI3ZThlNDI4ZTk3Yjk4MGYyZTNhZTUyZjApCiAgICAgICAgOwoKICAgICAgICAKICAgIAogICAgCiAgICAgICAgICAgIHZhciBjaXJjbGVfbWFya2VyXzFmNWQ1NmVmYWVkYzQyZDE5YmYyNDBkYWI5OTRhYjhjID0gTC5jaXJjbGVNYXJrZXIoCiAgICAgICAgICAgICAgICBbMjkuMTkwMDAwMDAwMDAwMDA1LCAtMTAyLjk1XSwKICAgICAgICAgICAgICAgIHsiYnViYmxpbmdNb3VzZUV2ZW50cyI6IHRydWUsICJjb2xvciI6ICJibGFjayIsICJkYXNoQXJyYXkiOiBudWxsLCAiZGFzaE9mZnNldCI6IG51bGwsICJmaWxsIjogdHJ1ZSwgImZpbGxDb2xvciI6ICJibGFjayIsICJmaWxsT3BhY2l0eSI6IDAuNSwgImZpbGxSdWxlIjogImV2ZW5vZGQiLCAibGluZUNhcCI6ICJyb3VuZCIsICJsaW5lSm9pbiI6ICJyb3VuZCIsICJvcGFjaXR5IjogMS4wLCAicmFkaXVzIjogMC4wMjU0MDAwMDAwMDAwMDAwMDIsICJzdHJva2UiOiB0cnVlLCAid2VpZ2h0IjogM30KICAgICAgICAgICAgKS5hZGRUbyhtYXBfOGU0Zjk5ODM2OWU4NDA4NGIyYmNlOGVjOTVhZjUyNTEpOwogICAgICAgIAogICAgCiAgICAgICAgdmFyIHBvcHVwX2VjODI5NDhlMWU1ZjQ4OTFiOTkwNmFmYzVhNGJjMTEwID0gTC5wb3B1cCh7Im1heFdpZHRoIjogIjEwMCUifSk7CgogICAgICAgIAogICAgICAgICAgICB2YXIgaHRtbF84YTcyZjIzOGMxMGI0YTg4ODQ1YTRmYTliNDc2OWM2MyA9ICQoYDxkaXYgaWQ9Imh0bWxfOGE3MmYyMzhjMTBiNGE4ODg0NWE0ZmE5YjQ3NjljNjMiIHN0eWxlPSJ3aWR0aDogMTAwLjAlOyBoZWlnaHQ6IDEwMC4wJTsiPkJvcXVpbGxhcyBDb3VudDogMjU0PC9kaXY+YClbMF07CiAgICAgICAgICAgIHBvcHVwX2VjODI5NDhlMWU1ZjQ4OTFiOTkwNmFmYzVhNGJjMTEwLnNldENvbnRlbnQoaHRtbF84YTcyZjIzOGMxMGI0YTg4ODQ1YTRmYTliNDc2OWM2Myk7CiAgICAgICAgCgogICAgICAgIGNpcmNsZV9tYXJrZXJfMWY1ZDU2ZWZhZWRjNDJkMTliZjI0MGRhYjk5NGFiOGMuYmluZFBvcHVwKHBvcHVwX2VjODI5NDhlMWU1ZjQ4OTFiOTkwNmFmYzVhNGJjMTEwKQogICAgICAgIDsKCiAgICAgICAgCiAgICAKPC9zY3JpcHQ+\" style=\"position:absolute;width:100%;height:100%;left:0;top:0;border:none !important;\" allowfullscreen webkitallowfullscreen mozallowfullscreen></iframe></div></div>"
      ],
      "text/plain": [
       "<folium.folium.Map at 0x1a2c381790>"
      ]
     },
     "execution_count": 17,
     "metadata": {},
     "output_type": "execute_result"
    }
   ],
   "source": [
    "#Plot a Border Map of Texas highlighting the Ports, with their size proportional to the number of Crossings\n",
    "Texas=folium.Map([32.007, -106.1003],zoom_start=5)\n",
    "#location=location[0:2000]\n",
    "for lat,lon,val, nm in zip(texport['Latitude'],texport['Longitude'],texport['Value'], texport['Port Name']):\n",
    "     folium.CircleMarker([lat, lon],\n",
    "                            popup= nm + \" Count: \" +str(val),\n",
    "                            radius=val * 0.0001,\n",
    "                            color='black',\n",
    "                            fill=True,\n",
    "                            fill_opacity=0.5,\n",
    "                            #fill_color=,\n",
    "                           ).add_to(Texas)\n",
    "#Texas.save('Texas.html')\n",
    "\n",
    "Texas"
   ]
  },
  {
   "cell_type": "code",
   "execution_count": 18,
   "metadata": {},
   "outputs": [],
   "source": [
    "#Sub-frame with all the ports for New York along with Crossing Details\n",
    "ny = df[df['State'] == 'New York']\n",
    "nyp = ny.groupby(['Port Name', 'Latitude', 'Longitude']).agg({\"Value\" : \"mean\"}).sort_values(by = 'Value', ascending = False).reset_index()\n",
    "nyp['Value'] = nyp['Value'].astype(int)"
   ]
  },
  {
   "cell_type": "code",
   "execution_count": 19,
   "metadata": {
    "scrolled": true
   },
   "outputs": [
    {
     "data": {
      "text/html": [
       "<div style=\"width:100%;\"><div style=\"position:relative;width:100%;height:0;padding-bottom:60%;\"><iframe src=\"data:text/html;charset=utf-8;base64,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\" style=\"position:absolute;width:100%;height:100%;left:0;top:0;border:none !important;\" allowfullscreen webkitallowfullscreen mozallowfullscreen></iframe></div></div>"
      ],
      "text/plain": [
       "<folium.folium.Map at 0x1a2c35ab90>"
      ]
     },
     "execution_count": 19,
     "metadata": {},
     "output_type": "execute_result"
    }
   ],
   "source": [
    "#Plot a Border Map of New York highlighting the Ports, with their size proportional to the number of Crossings\n",
    "NewYork=folium.Map([42.007, -79.1003],zoom_start=6)\n",
    "#location=location[0:2000]\n",
    "for lat,lon,val, nm in zip(nyp['Latitude'],nyp['Longitude'],nyp['Value'], nyp['Port Name']):\n",
    "     folium.CircleMarker([lat, lon],\n",
    "                            popup= nm + \" Count: \" + str(val),\n",
    "                            radius=val * 0.0003,\n",
    "                            color='black',\n",
    "                            fill=True,\n",
    "                            fill_opacity=0.5,\n",
    "                            #fill_color=,\n",
    "                           ).add_to(NewYork)\n",
    "#NewYork.save('NewYork.html')\n",
    "\n",
    "NewYork"
   ]
  },
  {
   "cell_type": "code",
   "execution_count": 20,
   "metadata": {},
   "outputs": [],
   "source": [
    "df = raw.copy()"
   ]
  },
  {
   "cell_type": "code",
   "execution_count": 21,
   "metadata": {},
   "outputs": [],
   "source": [
    "#Create a new Data Frame from the original set with Human Crossings\n",
    "df = pd.DataFrame(df[df[\"Measure\"].isin([\"Bus Passengers\",\"Pedestians\",\"Personal Vehicle Passengers\",\"Train Passengers\"])])"
   ]
  },
  {
   "cell_type": "code",
   "execution_count": 22,
   "metadata": {},
   "outputs": [
    {
     "data": {
      "text/html": [
       "<div>\n",
       "<style scoped>\n",
       "    .dataframe tbody tr th:only-of-type {\n",
       "        vertical-align: middle;\n",
       "    }\n",
       "\n",
       "    .dataframe tbody tr th {\n",
       "        vertical-align: top;\n",
       "    }\n",
       "\n",
       "    .dataframe thead th {\n",
       "        text-align: right;\n",
       "    }\n",
       "</style>\n",
       "<table border=\"1\" class=\"dataframe\">\n",
       "  <thead>\n",
       "    <tr style=\"text-align: right;\">\n",
       "      <th></th>\n",
       "      <th>Port Name</th>\n",
       "      <th>State</th>\n",
       "      <th>Port Code</th>\n",
       "      <th>Border</th>\n",
       "      <th>Date</th>\n",
       "      <th>Measure</th>\n",
       "      <th>Value</th>\n",
       "      <th>Location</th>\n",
       "      <th>Year</th>\n",
       "    </tr>\n",
       "  </thead>\n",
       "  <tbody>\n",
       "    <tr>\n",
       "      <td>2367</td>\n",
       "      <td>Presidio</td>\n",
       "      <td>Texas</td>\n",
       "      <td>2403</td>\n",
       "      <td>US-Mexico Border</td>\n",
       "      <td>2018-12-01</td>\n",
       "      <td>Bus Passengers</td>\n",
       "      <td>238</td>\n",
       "      <td>POINT (-104.37167 29.56056)</td>\n",
       "      <td>2018</td>\n",
       "    </tr>\n",
       "    <tr>\n",
       "      <td>2368</td>\n",
       "      <td>Anacortes</td>\n",
       "      <td>Washington</td>\n",
       "      <td>3010</td>\n",
       "      <td>US-Canada Border</td>\n",
       "      <td>2018-12-01</td>\n",
       "      <td>Personal Vehicle Passengers</td>\n",
       "      <td>5350</td>\n",
       "      <td>POINT (-122.61738999999999 48.49988)</td>\n",
       "      <td>2018</td>\n",
       "    </tr>\n",
       "    <tr>\n",
       "      <td>2376</td>\n",
       "      <td>Lukeville</td>\n",
       "      <td>Arizona</td>\n",
       "      <td>2602</td>\n",
       "      <td>US-Mexico Border</td>\n",
       "      <td>2018-12-01</td>\n",
       "      <td>Personal Vehicle Passengers</td>\n",
       "      <td>56937</td>\n",
       "      <td>POINT (-112.81500000000001 31.8825)</td>\n",
       "      <td>2018</td>\n",
       "    </tr>\n",
       "    <tr>\n",
       "      <td>2379</td>\n",
       "      <td>Highgate Springs-Alburg</td>\n",
       "      <td>Vermont</td>\n",
       "      <td>212</td>\n",
       "      <td>US-Canada Border</td>\n",
       "      <td>2018-12-01</td>\n",
       "      <td>Personal Vehicle Passengers</td>\n",
       "      <td>63798</td>\n",
       "      <td>POINT (-73.10583 44.979440000000004)</td>\n",
       "      <td>2018</td>\n",
       "    </tr>\n",
       "    <tr>\n",
       "      <td>2392</td>\n",
       "      <td>Dalton Cache</td>\n",
       "      <td>Alaska</td>\n",
       "      <td>3106</td>\n",
       "      <td>US-Canada Border</td>\n",
       "      <td>2018-12-01</td>\n",
       "      <td>Bus Passengers</td>\n",
       "      <td>14</td>\n",
       "      <td>POINT (-135.40995 59.10606000000001)</td>\n",
       "      <td>2018</td>\n",
       "    </tr>\n",
       "  </tbody>\n",
       "</table>\n",
       "</div>"
      ],
      "text/plain": [
       "                    Port Name       State  Port Code            Border  \\\n",
       "2367                 Presidio       Texas       2403  US-Mexico Border   \n",
       "2368                Anacortes  Washington       3010  US-Canada Border   \n",
       "2376                Lukeville     Arizona       2602  US-Mexico Border   \n",
       "2379  Highgate Springs-Alburg     Vermont        212  US-Canada Border   \n",
       "2392             Dalton Cache      Alaska       3106  US-Canada Border   \n",
       "\n",
       "           Date                      Measure  Value  \\\n",
       "2367 2018-12-01               Bus Passengers    238   \n",
       "2368 2018-12-01  Personal Vehicle Passengers   5350   \n",
       "2376 2018-12-01  Personal Vehicle Passengers  56937   \n",
       "2379 2018-12-01  Personal Vehicle Passengers  63798   \n",
       "2392 2018-12-01               Bus Passengers     14   \n",
       "\n",
       "                                  Location  Year  \n",
       "2367           POINT (-104.37167 29.56056)  2018  \n",
       "2368  POINT (-122.61738999999999 48.49988)  2018  \n",
       "2376   POINT (-112.81500000000001 31.8825)  2018  \n",
       "2379  POINT (-73.10583 44.979440000000004)  2018  \n",
       "2392  POINT (-135.40995 59.10606000000001)  2018  "
      ]
     },
     "execution_count": 22,
     "metadata": {},
     "output_type": "execute_result"
    }
   ],
   "source": [
    "df.head()"
   ]
  },
  {
   "cell_type": "code",
   "execution_count": 23,
   "metadata": {},
   "outputs": [],
   "source": [
    "#Creating dummy variables for variable State and Measure\n",
    "dummies_1 = pd.get_dummies(df['State']).rename(columns=lambda x: str(x))\n",
    "dummies_2 = pd.get_dummies(df['Measure']).rename(columns=lambda x: str(x))\n",
    "df = pd.concat([df, dummies_1, dummies_2], axis=1)\n",
    "df.drop(columns='Location',inplace=True)"
   ]
  },
  {
   "cell_type": "code",
   "execution_count": 24,
   "metadata": {},
   "outputs": [
    {
     "data": {
      "text/html": [
       "<div>\n",
       "<style scoped>\n",
       "    .dataframe tbody tr th:only-of-type {\n",
       "        vertical-align: middle;\n",
       "    }\n",
       "\n",
       "    .dataframe tbody tr th {\n",
       "        vertical-align: top;\n",
       "    }\n",
       "\n",
       "    .dataframe thead th {\n",
       "        text-align: right;\n",
       "    }\n",
       "</style>\n",
       "<table border=\"1\" class=\"dataframe\">\n",
       "  <thead>\n",
       "    <tr style=\"text-align: right;\">\n",
       "      <th></th>\n",
       "      <th>Value</th>\n",
       "      <th>Port Name</th>\n",
       "      <th>State</th>\n",
       "      <th>Port Code</th>\n",
       "      <th>Border</th>\n",
       "      <th>Date</th>\n",
       "      <th>Measure</th>\n",
       "      <th>Year</th>\n",
       "      <th>Alaska</th>\n",
       "      <th>Arizona</th>\n",
       "      <th>...</th>\n",
       "      <th>Montana</th>\n",
       "      <th>New Mexico</th>\n",
       "      <th>New York</th>\n",
       "      <th>North Dakota</th>\n",
       "      <th>Texas</th>\n",
       "      <th>Vermont</th>\n",
       "      <th>Washington</th>\n",
       "      <th>Bus Passengers</th>\n",
       "      <th>Personal Vehicle Passengers</th>\n",
       "      <th>Train Passengers</th>\n",
       "    </tr>\n",
       "  </thead>\n",
       "  <tbody>\n",
       "    <tr>\n",
       "      <td>2367</td>\n",
       "      <td>238</td>\n",
       "      <td>Presidio</td>\n",
       "      <td>Texas</td>\n",
       "      <td>2403</td>\n",
       "      <td>US-Mexico Border</td>\n",
       "      <td>2018-12-01</td>\n",
       "      <td>Bus Passengers</td>\n",
       "      <td>2018</td>\n",
       "      <td>0</td>\n",
       "      <td>0</td>\n",
       "      <td>...</td>\n",
       "      <td>0</td>\n",
       "      <td>0</td>\n",
       "      <td>0</td>\n",
       "      <td>0</td>\n",
       "      <td>1</td>\n",
       "      <td>0</td>\n",
       "      <td>0</td>\n",
       "      <td>1</td>\n",
       "      <td>0</td>\n",
       "      <td>0</td>\n",
       "    </tr>\n",
       "    <tr>\n",
       "      <td>2368</td>\n",
       "      <td>5350</td>\n",
       "      <td>Anacortes</td>\n",
       "      <td>Washington</td>\n",
       "      <td>3010</td>\n",
       "      <td>US-Canada Border</td>\n",
       "      <td>2018-12-01</td>\n",
       "      <td>Personal Vehicle Passengers</td>\n",
       "      <td>2018</td>\n",
       "      <td>0</td>\n",
       "      <td>0</td>\n",
       "      <td>...</td>\n",
       "      <td>0</td>\n",
       "      <td>0</td>\n",
       "      <td>0</td>\n",
       "      <td>0</td>\n",
       "      <td>0</td>\n",
       "      <td>0</td>\n",
       "      <td>1</td>\n",
       "      <td>0</td>\n",
       "      <td>1</td>\n",
       "      <td>0</td>\n",
       "    </tr>\n",
       "    <tr>\n",
       "      <td>2376</td>\n",
       "      <td>56937</td>\n",
       "      <td>Lukeville</td>\n",
       "      <td>Arizona</td>\n",
       "      <td>2602</td>\n",
       "      <td>US-Mexico Border</td>\n",
       "      <td>2018-12-01</td>\n",
       "      <td>Personal Vehicle Passengers</td>\n",
       "      <td>2018</td>\n",
       "      <td>0</td>\n",
       "      <td>1</td>\n",
       "      <td>...</td>\n",
       "      <td>0</td>\n",
       "      <td>0</td>\n",
       "      <td>0</td>\n",
       "      <td>0</td>\n",
       "      <td>0</td>\n",
       "      <td>0</td>\n",
       "      <td>0</td>\n",
       "      <td>0</td>\n",
       "      <td>1</td>\n",
       "      <td>0</td>\n",
       "    </tr>\n",
       "  </tbody>\n",
       "</table>\n",
       "<p>3 rows × 25 columns</p>\n",
       "</div>"
      ],
      "text/plain": [
       "      Value  Port Name       State  Port Code            Border       Date  \\\n",
       "2367    238   Presidio       Texas       2403  US-Mexico Border 2018-12-01   \n",
       "2368   5350  Anacortes  Washington       3010  US-Canada Border 2018-12-01   \n",
       "2376  56937  Lukeville     Arizona       2602  US-Mexico Border 2018-12-01   \n",
       "\n",
       "                          Measure  Year  Alaska  Arizona  ...  Montana  \\\n",
       "2367               Bus Passengers  2018       0        0  ...        0   \n",
       "2368  Personal Vehicle Passengers  2018       0        0  ...        0   \n",
       "2376  Personal Vehicle Passengers  2018       0        1  ...        0   \n",
       "\n",
       "      New Mexico  New York  North Dakota  Texas  Vermont  Washington  \\\n",
       "2367           0         0             0      1        0           0   \n",
       "2368           0         0             0      0        0           1   \n",
       "2376           0         0             0      0        0           0   \n",
       "\n",
       "      Bus Passengers  Personal Vehicle Passengers  Train Passengers  \n",
       "2367               1                            0                 0  \n",
       "2368               0                            1                 0  \n",
       "2376               0                            1                 0  \n",
       "\n",
       "[3 rows x 25 columns]"
      ]
     },
     "execution_count": 24,
     "metadata": {},
     "output_type": "execute_result"
    }
   ],
   "source": [
    "#Since we want value to be easier to read, we modify the column order\n",
    "cols = list(df.columns)\n",
    "cols = [cols[6]]+cols[:6]+cols[7:]\n",
    "df = df[cols]\n",
    "df.head(3)"
   ]
  },
  {
   "cell_type": "code",
   "execution_count": 25,
   "metadata": {},
   "outputs": [],
   "source": [
    "#We adjust the name of columns to help us with our linear regression model\n",
    "df.columns = ['Value', 'Port', 'State', 'PortC', 'Border', 'Date', 'Measure','Year',\n",
    "       'Alaska', 'Arizona', 'California', 'Idaho', 'Maine', 'Michigan',\n",
    "       'Minnesota', 'Montana', 'New_Mexico', 'New_York', 'North_Dakota',\n",
    "       'Texas', 'Vermont', 'Washington', 'Bus',\n",
    "       'Personal_Vehicle', 'Train']"
   ]
  },
  {
   "cell_type": "code",
   "execution_count": 32,
   "metadata": {},
   "outputs": [],
   "source": [
    "def measureTime(fun,arg):\n",
    "    '''Function to measure time for a utility being called in it. It returns the total execution time in seconds.'''\n",
    "    startTime = time.time()\n",
    "    fun(arg)\n",
    "    endTime = time.time()\n",
    "    return endTime-startTime\n",
    "\n",
    "def runOLS(tr):\n",
    "    '''Function to instantiate an OLS model on the given data (tr) and return the model metric as AIC'''\n",
    "    result = sm.ols(formula=fun,data=tr).fit()\n",
    "    return result.rsquared\n",
    "\n",
    "fun = 'Value ~ Bus + Train + Personal_Vehicle + California + New_York + Texas + Year'"
   ]
  },
  {
   "cell_type": "code",
   "execution_count": 27,
   "metadata": {},
   "outputs": [],
   "source": [
    "#Strategic Sampling of the given dataset to verify computation times on different dataset sizes\n",
    "df1 = df.loc[(df['Date'] >= '2012-12-31')] #Rows: 20137\n",
    "df2 = df.loc[(df['Date'] >= '2007-12-31')] #Rows: 40135\n",
    "df3 = df.loc[(df['Date'] >= '2003-12-31')] #Rows: 56209\n",
    "df4 = df.loc[(df['Date'] >= '1999-12-31')] #Rows: 71230\n",
    "df5 = df.loc[(df['Date'] >= '1995-12-31')] #Rows: 86062"
   ]
  },
  {
   "cell_type": "code",
   "execution_count": 33,
   "metadata": {},
   "outputs": [],
   "source": [
    "#Evaluate the time taken for regression to run on different dataset sizes\n",
    "samples = [df1,df2,df3,df4,df5]\n",
    "nGrid=[20137,40135,56209,71230,86062]\n",
    "times = []\n",
    "rsq= []\n",
    "startTime_Linear = time.time()\n",
    "for i in samples:\n",
    "    t=measureTime(runOLS,i)\n",
    "    #print(t)\n",
    "    r=runOLS(i)\n",
    "    #print(rsq)\n",
    "    times.append(t)\n",
    "    rsq.append(r)\n",
    "endTime_Linear = time.time()"
   ]
  },
  {
   "cell_type": "code",
   "execution_count": 35,
   "metadata": {},
   "outputs": [
    {
     "data": {
      "image/png": "[encoded data removed]",
      "text/plain": [
       "<Figure size 432x288 with 1 Axes>"
      ]
     },
     "metadata": {
      "needs_background": "light"
     },
     "output_type": "display_data"
    },
    {
     "data": {
      "image/png": "[encoded data removed]",
      "text/plain": [
       "<Figure size 432x288 with 1 Axes>"
      ]
     },
     "metadata": {
      "needs_background": "light"
     },
     "output_type": "display_data"
    }
   ],
   "source": [
    "#Plot evaluating Runtimes against the dataset size\n",
    "fig = plt.figure()\n",
    "plt.plot(nGrid,times, label = \"Time consuming\")\n",
    "plt.xlabel('Sample Size')\n",
    "plt.ylabel(\"Time (in seconds)\")\n",
    "plt.title('Sample Size vs Execution Time')\n",
    "plt.show()\n",
    "\n",
    "#Plot Evaluating the AIC against the dataset size passed to the Regression Model\n",
    "fig2 = plt.figure()\n",
    "plt.plot(nGrid,rsq)\n",
    "plt.xlabel('Sample Size')\n",
    "plt.ylabel(\"R-sq\")\n",
    "plt.title('Sample Size vs R-sq')\n",
    "plt.show()"
   ]
  },
  {
   "cell_type": "code",
   "execution_count": 30,
   "metadata": {},
   "outputs": [
    {
     "name": "stdout",
     "output_type": "stream",
     "text": [
      "Using  1  processors it took 1.857043981552124  seconds\n",
      "Using  2  processors it took 1.2796058654785156  seconds\n",
      "Using  3  processors it took 1.1114318370819092  seconds\n",
      "Using  4  processors it took 1.0326569080352783  seconds\n",
      "5.342852830886841\n"
     ]
    }
   ],
   "source": [
    "#Implementing Parallel processing to simultaneously execute the regression models on different dataset sizes \n",
    "#while varying the number of processes made available\n",
    "\n",
    "from multiprocessing import Pool\n",
    "time_parallel = list()\n",
    "processors = list()\n",
    "startTime_Total = time.time()\n",
    "if __name__ == '__main__':\n",
    "    for i in range(1,5):\n",
    "        p = Pool(processes=i)\n",
    "        startTime=time.time()\n",
    "        p.map(runOLS, [df1,df2,df3,df4,df5])\n",
    "        endTime=time.time()\n",
    "        p.close()\n",
    "        time_parallel.append(endTime-startTime)\n",
    "        processors.append(i)\n",
    "        print(\"Using \",i,\" processors it took\", endTime-startTime, \" seconds\")\n",
    "endTime_Total = time.time()\n",
    "print(endTime_Total-startTime_Total)"
   ]
  },
  {
   "cell_type": "code",
   "execution_count": 31,
   "metadata": {},
   "outputs": [
    {
     "data": {
      "image/png": "[encoded data removed]",
      "text/plain": [
       "<Figure size 432x288 with 1 Axes>"
      ]
     },
     "metadata": {
      "needs_background": "light"
     },
     "output_type": "display_data"
    }
   ],
   "source": [
    "#Plot the time taken to execute Regression models in parallel against the number of processes made available\n",
    "fig = plt.figure()\n",
    "plt.scatter(processors,time_parallel)\n",
    "plt.xlabel('Number of Processors')\n",
    "plt.ylabel(\"Time (in seconds)\")\n",
    "plt.title('Parallel Processing of Varied Sized Datasets')\n",
    "plt.show()"
   ]
  },
  {
   "cell_type": "code",
   "execution_count": null,
   "metadata": {},
   "outputs": [],
   "source": []
  }
 ],
 "metadata": {
  "kernelspec": {
   "display_name": "Python 3",
   "language": "python",
   "name": "python3"
  },
  "language_info": {
   "codemirror_mode": {
    "name": "ipython",
    "version": 3
   },
   "file_extension": ".py",
   "mimetype": "text/x-python",
   "name": "python",
   "nbconvert_exporter": "python",
   "pygments_lexer": "ipython3",
   "version": "3.7.4"
  }
 },
 "nbformat": 4,
 "nbformat_minor": 2
}
